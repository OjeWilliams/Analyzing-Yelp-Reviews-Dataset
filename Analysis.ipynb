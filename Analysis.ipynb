{
 "cells": [
  {
   "cell_type": "markdown",
   "id": "9b654770",
   "metadata": {},
   "source": [
    "# Analysis of Yelp Dataset\n",
    "\n",
    "In this notebook we will analyze a subset of Yelp's business, reviews and user data. The data was originally obtained from Kaggle but was then uploaded into an s3 bucket."
   ]
  },
  {
   "cell_type": "markdown",
   "id": "8ff29bcf",
   "metadata": {},
   "source": [
    "## Part 1:  Installation and Initial Setup\n",
    "First we will validate that everything was setup correctly and do an initial check on current kernel packages."
   ]
  },
  {
   "cell_type": "code",
   "execution_count": 1,
   "id": "3a8ead59",
   "metadata": {},
   "outputs": [
    {
     "data": {
      "text/html": [
       "Current session configs: <tt>{'conf': {'spark.pyspark.python': 'python3', 'spark.pyspark.virtualenv.enabled': 'true', 'spark.pyspark.virtualenv.type': 'native', 'spark.pyspark.virtualenv.bin.path': '/usr/bin/virtualenv'}, 'kind': 'pyspark'}</tt><br>"
      ],
      "text/plain": [
       "<IPython.core.display.HTML object>"
      ]
     },
     "metadata": {},
     "output_type": "display_data"
    },
    {
     "data": {
      "text/html": [
       "No active sessions."
      ],
      "text/plain": [
       "<IPython.core.display.HTML object>"
      ]
     },
     "metadata": {},
     "output_type": "display_data"
    }
   ],
   "source": [
    "%%info"
   ]
  },
  {
   "cell_type": "code",
   "execution_count": 2,
   "id": "48043d9c",
   "metadata": {},
   "outputs": [
    {
     "data": {
      "application/vnd.jupyter.widget-view+json": {
       "model_id": "8a6cfbe1233a4499a0718f1820eaee18",
       "version_major": 2,
       "version_minor": 0
      },
      "text/plain": [
       "VBox()"
      ]
     },
     "metadata": {},
     "output_type": "display_data"
    },
    {
     "name": "stdout",
     "output_type": "stream",
     "text": [
      "Starting Spark application\n"
     ]
    },
    {
     "data": {
      "text/html": [
       "<table>\n",
       "<tr><th>ID</th><th>YARN Application ID</th><th>Kind</th><th>State</th><th>Spark UI</th><th>Driver log</th><th>Current session?</th></tr><tr><td>0</td><td>application_1619399119434_0001</td><td>pyspark</td><td>idle</td><td><a target=\"_blank\" href=\"http://ip-172-31-11-213.us-east-2.compute.internal:20888/proxy/application_1619399119434_0001/\">Link</a></td><td><a target=\"_blank\" href=\"http://ip-172-31-6-242.us-east-2.compute.internal:8042/node/containerlogs/container_1619399119434_0001_01_000001/livy\">Link</a></td><td>✔</td></tr></table>"
      ],
      "text/plain": [
       "<IPython.core.display.HTML object>"
      ]
     },
     "metadata": {},
     "output_type": "display_data"
    },
    {
     "data": {
      "application/vnd.jupyter.widget-view+json": {
       "model_id": "",
       "version_major": 2,
       "version_minor": 0
      },
      "text/plain": [
       "FloatProgress(value=0.0, bar_style='info', description='Progress:', layout=Layout(height='25px', width='50%'),…"
      ]
     },
     "metadata": {},
     "output_type": "display_data"
    },
    {
     "name": "stdout",
     "output_type": "stream",
     "text": [
      "SparkSession available as 'spark'.\n"
     ]
    },
    {
     "data": {
      "application/vnd.jupyter.widget-view+json": {
       "model_id": "",
       "version_major": 2,
       "version_minor": 0
      },
      "text/plain": [
       "FloatProgress(value=0.0, bar_style='info', description='Progress:', layout=Layout(height='25px', width='50%'),…"
      ]
     },
     "metadata": {},
     "output_type": "display_data"
    },
    {
     "name": "stdout",
     "output_type": "stream",
     "text": [
      "Package                    Version  \n",
      "-------------------------- ---------\n",
      "beautifulsoup4             4.9.1    \n",
      "boto                       2.49.0   \n",
      "click                      7.1.2    \n",
      "jmespath                   0.10.0   \n",
      "joblib                     0.16.0   \n",
      "lxml                       4.5.2    \n",
      "mysqlclient                1.4.2    \n",
      "nltk                       3.5      \n",
      "nose                       1.3.4    \n",
      "numpy                      1.16.5   \n",
      "pip                        9.0.1    \n",
      "py-dateutil                2.2      \n",
      "python37-sagemaker-pyspark 1.4.0    \n",
      "pytz                       2020.1   \n",
      "PyYAML                     5.3.1    \n",
      "regex                      2020.7.14\n",
      "setuptools                 28.8.0   \n",
      "six                        1.13.0   \n",
      "soupsieve                  1.9.5    \n",
      "tqdm                       4.48.2   \n",
      "wheel                      0.29.0   \n",
      "windmill                   1.6"
     ]
    }
   ],
   "source": [
    "sc.list_packages() # check kernel packages"
   ]
  },
  {
   "cell_type": "markdown",
   "id": "f3963a16",
   "metadata": {},
   "source": [
    "## Installing required packages for analysis and visualization"
   ]
  },
  {
   "cell_type": "code",
   "execution_count": 3,
   "id": "9c4d8058",
   "metadata": {},
   "outputs": [
    {
     "data": {
      "application/vnd.jupyter.widget-view+json": {
       "model_id": "aa7fd6e7b750447484862533e5fed2fb",
       "version_major": 2,
       "version_minor": 0
      },
      "text/plain": [
       "VBox()"
      ]
     },
     "metadata": {},
     "output_type": "display_data"
    },
    {
     "data": {
      "application/vnd.jupyter.widget-view+json": {
       "model_id": "",
       "version_major": 2,
       "version_minor": 0
      },
      "text/plain": [
       "FloatProgress(value=0.0, bar_style='info', description='Progress:', layout=Layout(height='25px', width='50%'),…"
      ]
     },
     "metadata": {},
     "output_type": "display_data"
    },
    {
     "name": "stdout",
     "output_type": "stream",
     "text": [
      "Collecting pandas==1.2.4\n",
      "  Downloading https://files.pythonhosted.org/packages/51/51/48f3fc47c4e2144da2806dfb6629c4dd1fa3d5a143f9652b141e979a8ca9/pandas-1.2.4-cp37-cp37m-manylinux1_x86_64.whl (9.9MB)\n",
      "Requirement already satisfied: numpy>=1.16.5 in /usr/local/lib64/python3.7/site-packages (from pandas==1.2.4)\n",
      "Requirement already satisfied: pytz>=2017.3 in /usr/local/lib/python3.7/site-packages (from pandas==1.2.4)\n",
      "Collecting python-dateutil>=2.7.3 (from pandas==1.2.4)\n",
      "  Downloading https://files.pythonhosted.org/packages/d4/70/d60450c3dd48ef87586924207ae8907090de0b306af2bce5d134d78615cb/python_dateutil-2.8.1-py2.py3-none-any.whl (227kB)\n",
      "Requirement already satisfied: six>=1.5 in /usr/local/lib/python3.7/site-packages (from python-dateutil>=2.7.3->pandas==1.2.4)\n",
      "Installing collected packages: python-dateutil, pandas\n",
      "Successfully installed pandas-1.2.4 python-dateutil-2.8.1\n",
      "\n",
      "Collecting matplotlib==3.4.1\n",
      "  Downloading https://files.pythonhosted.org/packages/ce/63/74c0b6184b6b169b121bb72458818ee60a7d7c436d7b1907bd5874188c55/matplotlib-3.4.1-cp37-cp37m-manylinux1_x86_64.whl (10.3MB)\n",
      "Requirement already satisfied: numpy>=1.16 in /usr/local/lib64/python3.7/site-packages (from matplotlib==3.4.1)\n",
      "Collecting pyparsing>=2.2.1 (from matplotlib==3.4.1)\n",
      "  Downloading https://files.pythonhosted.org/packages/8a/bb/488841f56197b13700afd5658fc279a2025a39e22449b7cf29864669b15d/pyparsing-2.4.7-py2.py3-none-any.whl (67kB)\n",
      "Requirement already satisfied: python-dateutil>=2.7 in /mnt/tmp/1619401021264-0/lib/python3.7/site-packages (from matplotlib==3.4.1)\n",
      "Collecting pillow>=6.2.0 (from matplotlib==3.4.1)\n",
      "  Downloading https://files.pythonhosted.org/packages/33/34/542152297dcc6c47a9dcb0685eac6d652d878ed3cea83bf2b23cb988e857/Pillow-8.2.0-cp37-cp37m-manylinux1_x86_64.whl (3.0MB)\n",
      "Collecting cycler>=0.10 (from matplotlib==3.4.1)\n",
      "  Downloading https://files.pythonhosted.org/packages/f7/d2/e07d3ebb2bd7af696440ce7e754c59dd546ffe1bbe732c8ab68b9c834e61/cycler-0.10.0-py2.py3-none-any.whl\n",
      "Collecting kiwisolver>=1.0.1 (from matplotlib==3.4.1)\n",
      "  Downloading https://files.pythonhosted.org/packages/d2/46/231de802ade4225b76b96cffe419cf3ce52bbe92e3b092cf12db7d11c207/kiwisolver-1.3.1-cp37-cp37m-manylinux1_x86_64.whl (1.1MB)\n",
      "Requirement already satisfied: six>=1.5 in /usr/local/lib/python3.7/site-packages (from python-dateutil>=2.7->matplotlib==3.4.1)\n",
      "Installing collected packages: pyparsing, pillow, cycler, kiwisolver, matplotlib\n",
      "Successfully installed cycler-0.10.0 kiwisolver-1.3.1 matplotlib-3.4.1 pillow-8.2.0 pyparsing-2.4.7\n",
      "\n",
      "Collecting seaborn==0.11.1\n",
      "  Downloading https://files.pythonhosted.org/packages/68/ad/6c2406ae175f59ec616714e408979b674fe27b9587f79d59a528ddfbcd5b/seaborn-0.11.1-py3-none-any.whl (285kB)\n",
      "Requirement already satisfied: numpy>=1.15 in /usr/local/lib64/python3.7/site-packages (from seaborn==0.11.1)\n",
      "Collecting scipy>=1.0 (from seaborn==0.11.1)\n",
      "  Downloading https://files.pythonhosted.org/packages/7d/e8/43ffca541d2f208d516296950b25fe1084b35c2881f4d444c1346ca75815/scipy-1.6.3-cp37-cp37m-manylinux1_x86_64.whl (27.4MB)\n",
      "Requirement already satisfied: matplotlib>=2.2 in /mnt/tmp/1619401021264-0/lib/python3.7/site-packages (from seaborn==0.11.1)\n",
      "Requirement already satisfied: pandas>=0.23 in /mnt/tmp/1619401021264-0/lib/python3.7/site-packages (from seaborn==0.11.1)\n",
      "Requirement already satisfied: pyparsing>=2.2.1 in /mnt/tmp/1619401021264-0/lib/python3.7/site-packages (from matplotlib>=2.2->seaborn==0.11.1)\n",
      "Requirement already satisfied: python-dateutil>=2.7 in /mnt/tmp/1619401021264-0/lib/python3.7/site-packages (from matplotlib>=2.2->seaborn==0.11.1)\n",
      "Requirement already satisfied: pillow>=6.2.0 in /mnt/tmp/1619401021264-0/lib/python3.7/site-packages (from matplotlib>=2.2->seaborn==0.11.1)\n",
      "Requirement already satisfied: cycler>=0.10 in /mnt/tmp/1619401021264-0/lib/python3.7/site-packages (from matplotlib>=2.2->seaborn==0.11.1)\n",
      "Requirement already satisfied: kiwisolver>=1.0.1 in /mnt/tmp/1619401021264-0/lib/python3.7/site-packages (from matplotlib>=2.2->seaborn==0.11.1)\n",
      "Requirement already satisfied: pytz>=2017.3 in /usr/local/lib/python3.7/site-packages (from pandas>=0.23->seaborn==0.11.1)\n",
      "Requirement already satisfied: six>=1.5 in /usr/local/lib/python3.7/site-packages (from python-dateutil>=2.7->matplotlib>=2.2->seaborn==0.11.1)\n",
      "Installing collected packages: scipy, seaborn\n",
      "Successfully installed scipy-1.6.3 seaborn-0.11.1\n",
      "\n",
      "Collecting pyspark==3.1.1\n",
      "  Downloading https://files.pythonhosted.org/packages/45/b0/9d6860891ab14a39d4bddf80ba26ce51c2f9dc4805e5c6978ac0472c120a/pyspark-3.1.1.tar.gz (212.3MB)\n",
      "Collecting py4j==0.10.9 (from pyspark==3.1.1)\n",
      "  Downloading https://files.pythonhosted.org/packages/9e/b6/6a4fb90cd235dc8e265a6a2067f2a2c99f0d91787f06aca4bcf7c23f3f80/py4j-0.10.9-py2.py3-none-any.whl (198kB)\n",
      "Building wheels for collected packages: pyspark\n",
      "  Running setup.py bdist_wheel for pyspark: started\n",
      "  Running setup.py bdist_wheel for pyspark: finished with status 'done'\n",
      "  Stored in directory: /var/lib/livy/.cache/pip/wheels/0b/90/c0/01de724414ef122bd05f056541fb6a0ecf47c7ca655f8b3c0f\n",
      "Successfully built pyspark\n",
      "Installing collected packages: py4j, pyspark\n",
      "Successfully installed py4j-0.10.9 pyspark-3.1.1"
     ]
    }
   ],
   "source": [
    "sc.install_pypi_package(\"pandas==1.2.4\")\n",
    "sc.install_pypi_package(\"matplotlib==3.4.1\")\n",
    "sc.install_pypi_package(\"seaborn==0.11.1\")\n",
    "sc.install_pypi_package(\"pyspark==3.1.1\")"
   ]
  },
  {
   "cell_type": "code",
   "execution_count": null,
   "id": "9bc3fddd",
   "metadata": {},
   "outputs": [],
   "source": []
  },
  {
   "cell_type": "code",
   "execution_count": 4,
   "id": "929c4201",
   "metadata": {},
   "outputs": [
    {
     "data": {
      "application/vnd.jupyter.widget-view+json": {
       "model_id": "d38cb3fdd1b342e7ae256976de92a94d",
       "version_major": 2,
       "version_minor": 0
      },
      "text/plain": [
       "VBox()"
      ]
     },
     "metadata": {},
     "output_type": "display_data"
    },
    {
     "data": {
      "application/vnd.jupyter.widget-view+json": {
       "model_id": "",
       "version_major": 2,
       "version_minor": 0
      },
      "text/plain": [
       "FloatProgress(value=0.0, bar_style='info', description='Progress:', layout=Layout(height='25px', width='50%'),…"
      ]
     },
     "metadata": {},
     "output_type": "display_data"
    },
    {
     "name": "stdout",
     "output_type": "stream",
     "text": [
      "Package                    Version  \n",
      "-------------------------- ---------\n",
      "beautifulsoup4             4.9.1    \n",
      "boto                       2.49.0   \n",
      "click                      7.1.2    \n",
      "cycler                     0.10.0   \n",
      "jmespath                   0.10.0   \n",
      "joblib                     0.16.0   \n",
      "kiwisolver                 1.3.1    \n",
      "lxml                       4.5.2    \n",
      "matplotlib                 3.4.1    \n",
      "mysqlclient                1.4.2    \n",
      "nltk                       3.5      \n",
      "nose                       1.3.4    \n",
      "numpy                      1.16.5   \n",
      "pandas                     1.2.4    \n",
      "Pillow                     8.2.0    \n",
      "pip                        9.0.1    \n",
      "py-dateutil                2.2      \n",
      "py4j                       0.10.9   \n",
      "pyparsing                  2.4.7    \n",
      "pyspark                    3.1.1    \n",
      "python-dateutil            2.8.1    \n",
      "python37-sagemaker-pyspark 1.4.0    \n",
      "pytz                       2020.1   \n",
      "PyYAML                     5.3.1    \n",
      "regex                      2020.7.14\n",
      "scipy                      1.6.3    \n",
      "seaborn                    0.11.1   \n",
      "setuptools                 28.8.0   \n",
      "six                        1.13.0   \n",
      "soupsieve                  1.9.5    \n",
      "tqdm                       4.48.2   \n",
      "wheel                      0.29.0   \n",
      "windmill                   1.6"
     ]
    }
   ],
   "source": [
    "sc.list_packages() # check kernel packages again to verify installation"
   ]
  },
  {
   "cell_type": "markdown",
   "id": "eb7341ce",
   "metadata": {},
   "source": [
    "## Importing Packages"
   ]
  },
  {
   "cell_type": "code",
   "execution_count": 5,
   "id": "184b9e41",
   "metadata": {},
   "outputs": [
    {
     "data": {
      "application/vnd.jupyter.widget-view+json": {
       "model_id": "26840d05fd404c93a7aead543e6cca2c",
       "version_major": 2,
       "version_minor": 0
      },
      "text/plain": [
       "VBox()"
      ]
     },
     "metadata": {},
     "output_type": "display_data"
    },
    {
     "data": {
      "application/vnd.jupyter.widget-view+json": {
       "model_id": "",
       "version_major": 2,
       "version_minor": 0
      },
      "text/plain": [
       "FloatProgress(value=0.0, bar_style='info', description='Progress:', layout=Layout(height='25px', width='50%'),…"
      ]
     },
     "metadata": {},
     "output_type": "display_data"
    }
   ],
   "source": [
    "import numpy as np\n",
    "import pandas as pd\n",
    "import matplotlib.pyplot as plt\n",
    "import seaborn as sns\n",
    "from pyspark import *"
   ]
  },
  {
   "cell_type": "markdown",
   "id": "d89290ac",
   "metadata": {},
   "source": [
    "## Loading our Data\n",
    "We load in our data into a dataframe object through spark from our s3 bucket."
   ]
  },
  {
   "cell_type": "code",
   "execution_count": 6,
   "id": "7db4acdd",
   "metadata": {},
   "outputs": [
    {
     "data": {
      "application/vnd.jupyter.widget-view+json": {
       "model_id": "f985629cd2c64248b11864fc243eb214",
       "version_major": 2,
       "version_minor": 0
      },
      "text/plain": [
       "VBox()"
      ]
     },
     "metadata": {},
     "output_type": "display_data"
    },
    {
     "data": {
      "application/vnd.jupyter.widget-view+json": {
       "model_id": "",
       "version_major": 2,
       "version_minor": 0
      },
      "text/plain": [
       "FloatProgress(value=0.0, bar_style='info', description='Progress:', layout=Layout(height='25px', width='50%'),…"
      ]
     },
     "metadata": {},
     "output_type": "display_data"
    }
   ],
   "source": [
    "tot_df = spark.read.json('s3://sta9760-datasets-jay/*.json')\n",
    "bus_df = spark.read.json('s3://sta9760-datasets-jay/yelp_academic_dataset_business.json')"
   ]
  },
  {
   "cell_type": "markdown",
   "id": "0cdabc99",
   "metadata": {},
   "source": [
    "## Overview of our data"
   ]
  },
  {
   "cell_type": "code",
   "execution_count": 7,
   "id": "0a07605c",
   "metadata": {},
   "outputs": [
    {
     "data": {
      "application/vnd.jupyter.widget-view+json": {
       "model_id": "b1ceda2c25d24edf99f3984c6b1c44cb",
       "version_major": 2,
       "version_minor": 0
      },
      "text/plain": [
       "VBox()"
      ]
     },
     "metadata": {},
     "output_type": "display_data"
    },
    {
     "data": {
      "application/vnd.jupyter.widget-view+json": {
       "model_id": "",
       "version_major": 2,
       "version_minor": 0
      },
      "text/plain": [
       "FloatProgress(value=0.0, bar_style='info', description='Progress:', layout=Layout(height='25px', width='50%'),…"
      ]
     },
     "metadata": {},
     "output_type": "display_data"
    },
    {
     "name": "stdout",
     "output_type": "stream",
     "text": [
      "Total Columns: 14\n",
      "Total Rows: 160,585\n",
      "root\n",
      " |-- address: string (nullable = true)\n",
      " |-- attributes: struct (nullable = true)\n",
      " |    |-- AcceptsInsurance: string (nullable = true)\n",
      " |    |-- AgesAllowed: string (nullable = true)\n",
      " |    |-- Alcohol: string (nullable = true)\n",
      " |    |-- Ambience: string (nullable = true)\n",
      " |    |-- BYOB: string (nullable = true)\n",
      " |    |-- BYOBCorkage: string (nullable = true)\n",
      " |    |-- BestNights: string (nullable = true)\n",
      " |    |-- BikeParking: string (nullable = true)\n",
      " |    |-- BusinessAcceptsBitcoin: string (nullable = true)\n",
      " |    |-- BusinessAcceptsCreditCards: string (nullable = true)\n",
      " |    |-- BusinessParking: string (nullable = true)\n",
      " |    |-- ByAppointmentOnly: string (nullable = true)\n",
      " |    |-- Caters: string (nullable = true)\n",
      " |    |-- CoatCheck: string (nullable = true)\n",
      " |    |-- Corkage: string (nullable = true)\n",
      " |    |-- DietaryRestrictions: string (nullable = true)\n",
      " |    |-- DogsAllowed: string (nullable = true)\n",
      " |    |-- DriveThru: string (nullable = true)\n",
      " |    |-- GoodForDancing: string (nullable = true)\n",
      " |    |-- GoodForKids: string (nullable = true)\n",
      " |    |-- GoodForMeal: string (nullable = true)\n",
      " |    |-- HairSpecializesIn: string (nullable = true)\n",
      " |    |-- HappyHour: string (nullable = true)\n",
      " |    |-- HasTV: string (nullable = true)\n",
      " |    |-- Music: string (nullable = true)\n",
      " |    |-- NoiseLevel: string (nullable = true)\n",
      " |    |-- Open24Hours: string (nullable = true)\n",
      " |    |-- OutdoorSeating: string (nullable = true)\n",
      " |    |-- RestaurantsAttire: string (nullable = true)\n",
      " |    |-- RestaurantsCounterService: string (nullable = true)\n",
      " |    |-- RestaurantsDelivery: string (nullable = true)\n",
      " |    |-- RestaurantsGoodForGroups: string (nullable = true)\n",
      " |    |-- RestaurantsPriceRange2: string (nullable = true)\n",
      " |    |-- RestaurantsReservations: string (nullable = true)\n",
      " |    |-- RestaurantsTableService: string (nullable = true)\n",
      " |    |-- RestaurantsTakeOut: string (nullable = true)\n",
      " |    |-- Smoking: string (nullable = true)\n",
      " |    |-- WheelchairAccessible: string (nullable = true)\n",
      " |    |-- WiFi: string (nullable = true)\n",
      " |-- business_id: string (nullable = true)\n",
      " |-- categories: string (nullable = true)\n",
      " |-- city: string (nullable = true)\n",
      " |-- hours: struct (nullable = true)\n",
      " |    |-- Friday: string (nullable = true)\n",
      " |    |-- Monday: string (nullable = true)\n",
      " |    |-- Saturday: string (nullable = true)\n",
      " |    |-- Sunday: string (nullable = true)\n",
      " |    |-- Thursday: string (nullable = true)\n",
      " |    |-- Tuesday: string (nullable = true)\n",
      " |    |-- Wednesday: string (nullable = true)\n",
      " |-- is_open: long (nullable = true)\n",
      " |-- latitude: double (nullable = true)\n",
      " |-- longitude: double (nullable = true)\n",
      " |-- name: string (nullable = true)\n",
      " |-- postal_code: string (nullable = true)\n",
      " |-- review_count: long (nullable = true)\n",
      " |-- stars: double (nullable = true)\n",
      " |-- state: string (nullable = true)"
     ]
    }
   ],
   "source": [
    "#Display Total Columns & Rows & dataframe schema below\n",
    "print(f'Total Columns: {len(bus_df.dtypes)}')\n",
    "print(f'Total Rows: {bus_df.count():,}')\n",
    "bus_df.printSchema()"
   ]
  },
  {
   "cell_type": "code",
   "execution_count": null,
   "id": "1ea3d3f4",
   "metadata": {},
   "outputs": [],
   "source": []
  },
  {
   "cell_type": "markdown",
   "id": "28a3e603",
   "metadata": {},
   "source": [
    "## Displaying the first 5 rows with columns:\n",
    "1. business_id\n",
    "2. name\n",
    "3. city\n",
    "4. state\n",
    "5. stars\n",
    "6. categories"
   ]
  },
  {
   "cell_type": "code",
   "execution_count": 8,
   "id": "074af4d2",
   "metadata": {},
   "outputs": [
    {
     "data": {
      "application/vnd.jupyter.widget-view+json": {
       "model_id": "6ece31228b2a4b9d8972353b48297d4d",
       "version_major": 2,
       "version_minor": 0
      },
      "text/plain": [
       "VBox()"
      ]
     },
     "metadata": {},
     "output_type": "display_data"
    },
    {
     "data": {
      "application/vnd.jupyter.widget-view+json": {
       "model_id": "",
       "version_major": 2,
       "version_minor": 0
      },
      "text/plain": [
       "FloatProgress(value=0.0, bar_style='info', description='Progress:', layout=Layout(height='25px', width='50%'),…"
      ]
     },
     "metadata": {},
     "output_type": "display_data"
    },
    {
     "name": "stdout",
     "output_type": "stream",
     "text": [
      "+--------------------+--------------------+-----------+-----+-----+--------------------+\n",
      "|         business_id|                name|       city|state|stars|          categories|\n",
      "+--------------------+--------------------+-----------+-----+-----+--------------------+\n",
      "|6iYb2HFDywm3zjuRg...| Oskar Blues Taproom|    Boulder|   CO|  4.0|Gastropubs, Food,...|\n",
      "|tCbdrRPZA0oiIYSmH...|Flying Elephants ...|   Portland|   OR|  4.0|Salad, Soup, Sand...|\n",
      "|bvN78flM8NLprQ1a1...|      The Reclaimory|   Portland|   OR|  4.5|Antiques, Fashion...|\n",
      "|oaepsyvc0J17qwi8c...|         Great Clips|Orange City|   FL|  3.0|Beauty & Spas, Ha...|\n",
      "|PE9uqAjdw0E4-8mjG...|   Crossfit Terminus|    Atlanta|   GA|  4.0|Gyms, Active Life...|\n",
      "+--------------------+--------------------+-----------+-----+-----+--------------------+\n",
      "only showing top 5 rows"
     ]
    }
   ],
   "source": [
    "bus_df[\"business_id\", \"name\", \"city\", \"state\",\"stars\", \"categories\"].show(5)"
   ]
  },
  {
   "cell_type": "code",
   "execution_count": 9,
   "id": "b972d204",
   "metadata": {},
   "outputs": [
    {
     "data": {
      "application/vnd.jupyter.widget-view+json": {
       "model_id": "6abb4cc820164caab1745a7f50efdd25",
       "version_major": 2,
       "version_minor": 0
      },
      "text/plain": [
       "VBox()"
      ]
     },
     "metadata": {},
     "output_type": "display_data"
    },
    {
     "data": {
      "application/vnd.jupyter.widget-view+json": {
       "model_id": "",
       "version_major": 2,
       "version_minor": 0
      },
      "text/plain": [
       "FloatProgress(value=0.0, bar_style='info', description='Progress:', layout=Layout(height='25px', width='50%'),…"
      ]
     },
     "metadata": {},
     "output_type": "display_data"
    },
    {
     "name": "stdout",
     "output_type": "stream",
     "text": [
      "+--------------------+--------------------+-----------+-----+-----+--------------------+\n",
      "|         business_id|                name|       city|state|stars|          categories|\n",
      "+--------------------+--------------------+-----------+-----+-----+--------------------+\n",
      "|6iYb2HFDywm3zjuRg...| Oskar Blues Taproom|    Boulder|   CO|  4.0|Gastropubs, Food,...|\n",
      "|tCbdrRPZA0oiIYSmH...|Flying Elephants ...|   Portland|   OR|  4.0|Salad, Soup, Sand...|\n",
      "|bvN78flM8NLprQ1a1...|      The Reclaimory|   Portland|   OR|  4.5|Antiques, Fashion...|\n",
      "|oaepsyvc0J17qwi8c...|         Great Clips|Orange City|   FL|  3.0|Beauty & Spas, Ha...|\n",
      "|PE9uqAjdw0E4-8mjG...|   Crossfit Terminus|    Atlanta|   GA|  4.0|Gyms, Active Life...|\n",
      "+--------------------+--------------------+-----------+-----+-----+--------------------+\n",
      "only showing top 5 rows"
     ]
    }
   ],
   "source": [
    "bus_df.select('business_id', 'name', 'city', 'state','stars', 'categories').show(5)"
   ]
  },
  {
   "cell_type": "code",
   "execution_count": null,
   "id": "1cc4e7b1",
   "metadata": {},
   "outputs": [],
   "source": []
  },
  {
   "cell_type": "markdown",
   "id": "3b4d7011",
   "metadata": {},
   "source": [
    "## Part 2.  Analyzing Categories\n",
    "We are interested in finding some information about the different categories in the dataset. Essentially, we have the categories per business as a list - this is useful to quickly see what each business might be represented as.\n",
    "\n",
    "We would like to find find:\n",
    "1. How many unique categories are represented in this dataset.\n",
    "2. How many bunsinesses are categorized as Active Life.\n",
    "3. What are the top 20 most popular categories available."
   ]
  },
  {
   "cell_type": "markdown",
   "id": "07cc8703",
   "metadata": {},
   "source": [
    "## Association Table \n",
    "We need to \"break out\" these categories from the business ids? One common approach to take is to build an association table mapping a single business id multiple times to each distinct category.\n",
    "For instance, given the following:"
   ]
  },
  {
   "cell_type": "markdown",
   "id": "015da31f",
   "metadata": {},
   "source": [
    " | business_id | categories |\n",
    "    |-------------|------------|\n",
    "    | abcd123     | a,b,c      |"
   ]
  },
  {
   "cell_type": "markdown",
   "id": "c7eed2ec",
   "metadata": {},
   "source": [
    "We would like to derive something like:"
   ]
  },
  {
   "cell_type": "markdown",
   "id": "d5ff414c",
   "metadata": {},
   "source": [
    "  | business_id | category |\n",
    "  |-------------|------------|\n",
    "  | abcd123     | a          |\n",
    "  | abcd123     | b          |\n",
    "  | abcd123     | c          |\n",
    "\n"
   ]
  },
  {
   "cell_type": "markdown",
   "id": "060bd7a7",
   "metadata": {},
   "source": [
    "What this does is allow us to then perform a myriad of rollups and other analysis on this association table which can aid us in answering the questions asked above."
   ]
  },
  {
   "cell_type": "markdown",
   "id": "27969500",
   "metadata": {},
   "source": [
    "Lets first show how our categories currently are"
   ]
  },
  {
   "cell_type": "code",
   "execution_count": 10,
   "id": "3b214d40",
   "metadata": {
    "scrolled": true
   },
   "outputs": [
    {
     "data": {
      "application/vnd.jupyter.widget-view+json": {
       "model_id": "2be5070604d74e5bbba8a39667c2dbf5",
       "version_major": 2,
       "version_minor": 0
      },
      "text/plain": [
       "VBox()"
      ]
     },
     "metadata": {},
     "output_type": "display_data"
    },
    {
     "data": {
      "application/vnd.jupyter.widget-view+json": {
       "model_id": "",
       "version_major": 2,
       "version_minor": 0
      },
      "text/plain": [
       "FloatProgress(value=0.0, bar_style='info', description='Progress:', layout=Layout(height='25px', width='50%'),…"
      ]
     },
     "metadata": {},
     "output_type": "display_data"
    },
    {
     "name": "stdout",
     "output_type": "stream",
     "text": [
      "+--------------------+--------------------+\n",
      "|         business_id|          categories|\n",
      "+--------------------+--------------------+\n",
      "|6iYb2HFDywm3zjuRg...|Gastropubs, Food,...|\n",
      "|tCbdrRPZA0oiIYSmH...|Salad, Soup, Sand...|\n",
      "|bvN78flM8NLprQ1a1...|Antiques, Fashion...|\n",
      "|oaepsyvc0J17qwi8c...|Beauty & Spas, Ha...|\n",
      "|PE9uqAjdw0E4-8mjG...|Gyms, Active Life...|\n",
      "|D4JtQNTI4X3Kcbzac...|   Restaurants, Thai|\n",
      "|t35jsh9YnMtttm69U...|Dentists, Health ...|\n",
      "|jFYIsSb7r1QeESVUn...|Breakfast & Brunc...|\n",
      "|N3_Gs3DnX4k9SgpwJ...|Shopping, Jewelry...|\n",
      "|tXvdYGvlEceDljN8g...|Barbers, Beauty &...|\n",
      "+--------------------+--------------------+\n",
      "only showing top 10 rows"
     ]
    }
   ],
   "source": [
    "bus_df[\"business_id\", \"categories\"].show(10)"
   ]
  },
  {
   "cell_type": "markdown",
   "id": "66978d78",
   "metadata": {},
   "source": [
    "Now we will try to show the first 5 rows of our association table"
   ]
  },
  {
   "cell_type": "code",
   "execution_count": 11,
   "id": "6e398412",
   "metadata": {},
   "outputs": [
    {
     "data": {
      "application/vnd.jupyter.widget-view+json": {
       "model_id": "002161d8d6d9413cae3554bbf9f30c30",
       "version_major": 2,
       "version_minor": 0
      },
      "text/plain": [
       "VBox()"
      ]
     },
     "metadata": {},
     "output_type": "display_data"
    },
    {
     "data": {
      "application/vnd.jupyter.widget-view+json": {
       "model_id": "",
       "version_major": 2,
       "version_minor": 0
      },
      "text/plain": [
       "FloatProgress(value=0.0, bar_style='info', description='Progress:', layout=Layout(height='25px', width='50%'),…"
      ]
     },
     "metadata": {},
     "output_type": "display_data"
    },
    {
     "name": "stdout",
     "output_type": "stream",
     "text": [
      "+--------------------+------------+\n",
      "|         business_id|    category|\n",
      "+--------------------+------------+\n",
      "|6iYb2HFDywm3zjuRg...|  Gastropubs|\n",
      "|6iYb2HFDywm3zjuRg...|        Food|\n",
      "|6iYb2HFDywm3zjuRg...|Beer Gardens|\n",
      "|6iYb2HFDywm3zjuRg...| Restaurants|\n",
      "|6iYb2HFDywm3zjuRg...|        Bars|\n",
      "+--------------------+------------+\n",
      "only showing top 5 rows"
     ]
    }
   ],
   "source": [
    "from pyspark.sql.functions import split, explode, col, desc\n",
    "\n",
    "# split()--> split DataFrame string Column into multiple columns\n",
    "# explode()--> used to explode an Array of Array columns to rows on PySpark DataFrame using python example.\n",
    "#col()-->Returns a Column based on the given column name.\n",
    "#desc()-->Returns a sort expression based on the descending order of the given column name.\n",
    "\n",
    "split_categories = bus_df.select(bus_df.business_id, explode(split(bus_df.categories, ', ')).alias('category'))\n",
    "split_categories.show(5)\n"
   ]
  },
  {
   "cell_type": "markdown",
   "id": "2c992e88",
   "metadata": {},
   "source": [
    "## Total Unique Categories\n",
    "Finally we can find\n",
    "1. How many unique categories are represented in this dataset\n"
   ]
  },
  {
   "cell_type": "code",
   "execution_count": 12,
   "id": "20854e52",
   "metadata": {},
   "outputs": [
    {
     "data": {
      "application/vnd.jupyter.widget-view+json": {
       "model_id": "49a78bf21d06463db4e3b89e3d793e6b",
       "version_major": 2,
       "version_minor": 0
      },
      "text/plain": [
       "VBox()"
      ]
     },
     "metadata": {},
     "output_type": "display_data"
    },
    {
     "data": {
      "application/vnd.jupyter.widget-view+json": {
       "model_id": "",
       "version_major": 2,
       "version_minor": 0
      },
      "text/plain": [
       "FloatProgress(value=0.0, bar_style='info', description='Progress:', layout=Layout(height='25px', width='50%'),…"
      ]
     },
     "metadata": {},
     "output_type": "display_data"
    },
    {
     "name": "stdout",
     "output_type": "stream",
     "text": [
      "The total number of unique categories in this dataset is: 1330"
     ]
    }
   ],
   "source": [
    "unique_cat = split_categories.select('category').distinct().count()\n",
    "print('The total number of unique categories in this dataset is: ' + str(unique_cat))"
   ]
  },
  {
   "cell_type": "code",
   "execution_count": null,
   "id": "8286b7c5",
   "metadata": {},
   "outputs": [],
   "source": []
  },
  {
   "cell_type": "markdown",
   "id": "9468db57",
   "metadata": {},
   "source": [
    "## Top Categories By Business\n",
    "We will now try to find the top categories in the dataset by rolling up the categories"
   ]
  },
  {
   "cell_type": "markdown",
   "id": "3db93ad9",
   "metadata": {},
   "source": [
    "### Counts of Businesses / Category\n",
    "So now, let's unroll our distinct count a bit and display the per count value of businesses per category.\n",
    "The expected output should be:"
   ]
  },
  {
   "cell_type": "markdown",
   "id": "5dfe4f04",
   "metadata": {},
   "source": [
    "   \n",
    "  | category | count |\n",
    "  |-------------|------------|\n",
    "  | a    | 15          |\n",
    "  | b    | 2           |\n",
    "  | c    | 45          |\n"
   ]
  },
  {
   "cell_type": "code",
   "execution_count": 13,
   "id": "3417039b",
   "metadata": {},
   "outputs": [
    {
     "data": {
      "application/vnd.jupyter.widget-view+json": {
       "model_id": "196b7d084a8b42bfa4c9ab455b616983",
       "version_major": 2,
       "version_minor": 0
      },
      "text/plain": [
       "VBox()"
      ]
     },
     "metadata": {},
     "output_type": "display_data"
    },
    {
     "data": {
      "application/vnd.jupyter.widget-view+json": {
       "model_id": "",
       "version_major": 2,
       "version_minor": 0
      },
      "text/plain": [
       "FloatProgress(value=0.0, bar_style='info', description='Progress:', layout=Layout(height='25px', width='50%'),…"
      ]
     },
     "metadata": {},
     "output_type": "display_data"
    },
    {
     "name": "stdout",
     "output_type": "stream",
     "text": [
      "+--------------------+-----+\n",
      "|            category|count|\n",
      "+--------------------+-----+\n",
      "|      Dermatologists|  351|\n",
      "|      Paddleboarding|   67|\n",
      "|        Aerial Tours|    8|\n",
      "|         Hobby Shops|  610|\n",
      "|          Bubble Tea|  779|\n",
      "|             Embassy|    9|\n",
      "|             Tanning|  701|\n",
      "|            Handyman|  507|\n",
      "|      Aerial Fitness|   13|\n",
      "|             Falafel|  141|\n",
      "|        Summer Camps|  308|\n",
      "|       Outlet Stores|  184|\n",
      "|     Clothing Rental|   37|\n",
      "|      Sporting Goods| 1864|\n",
      "|     Cooking Schools|  114|\n",
      "|  College Counseling|   20|\n",
      "|  Lactation Services|   47|\n",
      "|Ski & Snowboard S...|   55|\n",
      "|             Museums|  336|\n",
      "|              Doulas|   52|\n",
      "+--------------------+-----+\n",
      "only showing top 20 rows"
     ]
    }
   ],
   "source": [
    "# The counts by category\n",
    "cat_count = split_categories.groupby(\"category\").count()\n",
    "cat_count.show()"
   ]
  },
  {
   "cell_type": "code",
   "execution_count": 14,
   "id": "2c846fd5",
   "metadata": {},
   "outputs": [
    {
     "data": {
      "application/vnd.jupyter.widget-view+json": {
       "model_id": "d7c2a68579844943827964ccf82f9f06",
       "version_major": 2,
       "version_minor": 0
      },
      "text/plain": [
       "VBox()"
      ]
     },
     "metadata": {},
     "output_type": "display_data"
    },
    {
     "data": {
      "application/vnd.jupyter.widget-view+json": {
       "model_id": "",
       "version_major": 2,
       "version_minor": 0
      },
      "text/plain": [
       "FloatProgress(value=0.0, bar_style='info', description='Progress:', layout=Layout(height='25px', width='50%'),…"
      ]
     },
     "metadata": {},
     "output_type": "display_data"
    },
    {
     "name": "stdout",
     "output_type": "stream",
     "text": [
      "+--------------------+-----+\n",
      "|            category|count|\n",
      "+--------------------+-----+\n",
      "|         Restaurants|50763|\n",
      "|                Food|29469|\n",
      "|            Shopping|26205|\n",
      "|       Beauty & Spas|16574|\n",
      "|       Home Services|16465|\n",
      "|    Health & Medical|15102|\n",
      "|      Local Services|12192|\n",
      "|           Nightlife|11990|\n",
      "|                Bars|10741|\n",
      "|          Automotive|10119|\n",
      "|Event Planning & ...| 9644|\n",
      "|         Active Life| 9231|\n",
      "|        Coffee & Tea| 7725|\n",
      "|          Sandwiches| 7272|\n",
      "|             Fashion| 6599|\n",
      "|American (Traditi...| 6541|\n",
      "|         Hair Salons| 5900|\n",
      "|               Pizza| 5756|\n",
      "|     Hotels & Travel| 5703|\n",
      "|  Breakfast & Brunch| 5505|\n",
      "+--------------------+-----+\n",
      "only showing top 20 rows"
     ]
    }
   ],
   "source": [
    "# The top categories based on count\n",
    "top_cat = cat_count.orderBy(desc('count')).show()\n",
    "top_cat"
   ]
  },
  {
   "cell_type": "markdown",
   "id": "82c7a0fc",
   "metadata": {},
   "source": [
    "### Bar Chart of Top Categories\n",
    "Before we can plot it is more useful to convert our spark dataframe to a pandas dataframe and then utilize matplotlib/seaborn"
   ]
  },
  {
   "cell_type": "code",
   "execution_count": 15,
   "id": "e06256d8",
   "metadata": {},
   "outputs": [
    {
     "data": {
      "application/vnd.jupyter.widget-view+json": {
       "model_id": "d39e98310a7f4a82ae63347971cc51ca",
       "version_major": 2,
       "version_minor": 0
      },
      "text/plain": [
       "VBox()"
      ]
     },
     "metadata": {},
     "output_type": "display_data"
    },
    {
     "data": {
      "application/vnd.jupyter.widget-view+json": {
       "model_id": "",
       "version_major": 2,
       "version_minor": 0
      },
      "text/plain": [
       "FloatProgress(value=0.0, bar_style='info', description='Progress:', layout=Layout(height='25px', width='50%'),…"
      ]
     },
     "metadata": {},
     "output_type": "display_data"
    },
    {
     "data": {
      "image/png": "[encoded data removed]",
      "text/plain": [
       "<IPython.core.display.Image object>"
      ]
     },
     "metadata": {},
     "output_type": "display_data"
    }
   ],
   "source": [
    "#Convert and store our Top 20 categories as a pandas dataframe object\n",
    "top_cat = cat_count.orderBy(desc('count')).limit(20)\n",
    "top_pdf = top_cat.toPandas()\n",
    "\n",
    "#Set our seaborn theme and create our plot figure\n",
    "sns.set_theme()\n",
    "#palette options: \"flare\", \"pastel\", \"light:#5A9\", \"ch:s=.25,rot=-.25 Greens_d\", \"YlOrBr\", \"Blues\",\"dark:salmon_r\"\n",
    "plt.figure(figsize = (9,8), dpi=200)\n",
    "axes = sns.barplot(x ='count', y ='category', data = top_pdf, palette=\"dark:salmon_r\")\n",
    "\n",
    "#Set title and labels\n",
    "plt.title('Top Categories by Business', fontsize = 15)\n",
    "plt.xlabel('Count', fontsize = 12)\n",
    "plt.ylabel('Category', fontsize = 12)\n",
    "\n",
    "plt.xticks(fontsize = 8.5)\n",
    "plt.yticks(fontsize = 8.5)\n",
    "\n",
    "plt.tight_layout()\n",
    "%matplot plt\n"
   ]
  },
  {
   "cell_type": "markdown",
   "id": "9815a918",
   "metadata": {},
   "source": [
    "## Part 3. Do Yelp Reviews Skew Negative?\n",
    "Oftentimes, it is said that the only people who write a written review are those who are extremely dissatisfied or extremely satisfied with the service received.\n",
    "\n",
    "How true is this really? Let's try and answer this question."
   ]
  },
  {
   "cell_type": "markdown",
   "id": "fc0d3014",
   "metadata": {},
   "source": [
    "### Loading User Data¶\n",
    "Begin by loading the user data set from S3 and printing schema to determine what data is available."
   ]
  },
  {
   "cell_type": "code",
   "execution_count": 16,
   "id": "df9d134e",
   "metadata": {},
   "outputs": [
    {
     "data": {
      "application/vnd.jupyter.widget-view+json": {
       "model_id": "9a2f698632df407eb37ff5583f6e6380",
       "version_major": 2,
       "version_minor": 0
      },
      "text/plain": [
       "VBox()"
      ]
     },
     "metadata": {},
     "output_type": "display_data"
    },
    {
     "data": {
      "application/vnd.jupyter.widget-view+json": {
       "model_id": "",
       "version_major": 2,
       "version_minor": 0
      },
      "text/plain": [
       "FloatProgress(value=0.0, bar_style='info', description='Progress:', layout=Layout(height='25px', width='50%'),…"
      ]
     },
     "metadata": {},
     "output_type": "display_data"
    },
    {
     "name": "stdout",
     "output_type": "stream",
     "text": [
      "root\n",
      " |-- business_id: string (nullable = true)\n",
      " |-- cool: long (nullable = true)\n",
      " |-- date: string (nullable = true)\n",
      " |-- funny: long (nullable = true)\n",
      " |-- review_id: string (nullable = true)\n",
      " |-- stars: double (nullable = true)\n",
      " |-- text: string (nullable = true)\n",
      " |-- useful: long (nullable = true)\n",
      " |-- user_id: string (nullable = true)"
     ]
    }
   ],
   "source": [
    "# Load in the review dataset\n",
    "rev_df = spark.read.json('s3://sta9760-datasets-jay/yelp_academic_dataset_review.json')\n",
    "rev_df.printSchema()"
   ]
  },
  {
   "cell_type": "markdown",
   "id": "bbfd5495",
   "metadata": {},
   "source": [
    "Let's begin by listing the business_id and stars columns together for the user reviews data."
   ]
  },
  {
   "cell_type": "code",
   "execution_count": 17,
   "id": "2434fdf0",
   "metadata": {
    "scrolled": true
   },
   "outputs": [
    {
     "data": {
      "application/vnd.jupyter.widget-view+json": {
       "model_id": "00e9250562854bd6befa356d4f8e0620",
       "version_major": 2,
       "version_minor": 0
      },
      "text/plain": [
       "VBox()"
      ]
     },
     "metadata": {},
     "output_type": "display_data"
    },
    {
     "data": {
      "application/vnd.jupyter.widget-view+json": {
       "model_id": "",
       "version_major": 2,
       "version_minor": 0
      },
      "text/plain": [
       "FloatProgress(value=0.0, bar_style='info', description='Progress:', layout=Layout(height='25px', width='50%'),…"
      ]
     },
     "metadata": {},
     "output_type": "display_data"
    },
    {
     "name": "stdout",
     "output_type": "stream",
     "text": [
      "+--------------------+-----+\n",
      "|         business_id|stars|\n",
      "+--------------------+-----+\n",
      "|buF9druCkbuXLX526...|  4.0|\n",
      "|RA4V8pr014UyUbDvI...|  4.0|\n",
      "|_sS2LBIGNT5NQb6PD...|  5.0|\n",
      "|0AzLzHfOJgL7ROwhd...|  2.0|\n",
      "|8zehGz9jnxPqXtOc7...|  4.0|\n",
      "+--------------------+-----+\n",
      "only showing top 5 rows"
     ]
    }
   ],
   "source": [
    "bus_star = rev_df[\"business_id\", \"stars\"]\n",
    "bus_star.show(5)"
   ]
  },
  {
   "cell_type": "markdown",
   "id": "a34f3939",
   "metadata": {},
   "source": [
    "\n",
    "Now, let's aggregate along the stars column to get a resultant dataframe that displays average stars per business as accumulated ***by users who took the time to submit a written review.***"
   ]
  },
  {
   "cell_type": "code",
   "execution_count": 18,
   "id": "73a70994",
   "metadata": {},
   "outputs": [
    {
     "data": {
      "application/vnd.jupyter.widget-view+json": {
       "model_id": "dcdb2fedf5a74ef88a6445a50708c4e3",
       "version_major": 2,
       "version_minor": 0
      },
      "text/plain": [
       "VBox()"
      ]
     },
     "metadata": {},
     "output_type": "display_data"
    },
    {
     "data": {
      "application/vnd.jupyter.widget-view+json": {
       "model_id": "",
       "version_major": 2,
       "version_minor": 0
      },
      "text/plain": [
       "FloatProgress(value=0.0, bar_style='info', description='Progress:', layout=Layout(height='25px', width='50%'),…"
      ]
     },
     "metadata": {},
     "output_type": "display_data"
    },
    {
     "name": "stdout",
     "output_type": "stream",
     "text": [
      "+--------------------+-----------------+\n",
      "|         business_id|       avg(stars)|\n",
      "+--------------------+-----------------+\n",
      "|uEUweopM30lHcVxjO...|              3.0|\n",
      "|wdBrDCbZopowEkIEX...|4.538461538461538|\n",
      "|L3WCfeVozu5etMhz4...|              4.2|\n",
      "|bOnsvrz1VkbrZM1jV...|              3.8|\n",
      "|R0IJhEI-zSJpYT1YN...|3.606060606060606|\n",
      "+--------------------+-----------------+\n",
      "only showing top 5 rows"
     ]
    }
   ],
   "source": [
    "avg_bus_star = bus_star.groupBy('business_id').mean()\n",
    "avg_bus_star.show(5)"
   ]
  },
  {
   "cell_type": "markdown",
   "id": "24299468",
   "metadata": {},
   "source": [
    "Now the fun part - let's join our two dataframes (reviews and business data) by business_id"
   ]
  },
  {
   "cell_type": "code",
   "execution_count": 19,
   "id": "4e88a9e3",
   "metadata": {},
   "outputs": [
    {
     "data": {
      "application/vnd.jupyter.widget-view+json": {
       "model_id": "4b05d81455d448959df131cbb097847e",
       "version_major": 2,
       "version_minor": 0
      },
      "text/plain": [
       "VBox()"
      ]
     },
     "metadata": {},
     "output_type": "display_data"
    },
    {
     "data": {
      "application/vnd.jupyter.widget-view+json": {
       "model_id": "",
       "version_major": 2,
       "version_minor": 0
      },
      "text/plain": [
       "FloatProgress(value=0.0, bar_style='info', description='Progress:', layout=Layout(height='25px', width='50%'),…"
      ]
     },
     "metadata": {},
     "output_type": "display_data"
    },
    {
     "name": "stdout",
     "output_type": "stream",
     "text": [
      "+------------------+-----+--------------------+----------+-----+\n",
      "|        avg(stars)|stars|                name|      city|state|\n",
      "+------------------+-----+--------------------+----------+-----+\n",
      "|               5.0|  5.0|    CheraBella Salon|   Peabody|   MA|\n",
      "|             3.875|  4.0|Mezcal Cantina & ...|  Columbus|   OH|\n",
      "|3.8666666666666667|  4.0|    Red Table Coffee|    Austin|   TX|\n",
      "|               5.0|  5.0|          WonderWell|    Austin|   TX|\n",
      "|             3.375|  3.5|         Avalon Oaks|Wilmington|   MA|\n",
      "+------------------+-----+--------------------+----------+-----+\n",
      "only showing top 5 rows"
     ]
    }
   ],
   "source": [
    "# select required columns from original business dataframe\n",
    "target = bus_df.select('business_id','stars','name', 'city', 'state')\n",
    "\n",
    "# join the two data frames based on business_id and stor into merge_df\n",
    "merge_df =  avg_bus_star.join(target, how='inner',on='business_id')\n",
    "\n",
    "# remove the business_id column from merged dataframe and show top 5\n",
    "merge_df.drop('business_id').show(5)"
   ]
  },
  {
   "cell_type": "code",
   "execution_count": null,
   "id": "e918cb2c",
   "metadata": {},
   "outputs": [],
   "source": []
  },
  {
   "cell_type": "markdown",
   "id": "0cb006ed",
   "metadata": {},
   "source": [
    "\n",
    "Compute a new dataframe that calculates what we will call the skew (for lack of a better word) between the avg stars accumulated from written reviews and the actual star rating of a business (ie: the average of stars given by reviewers who wrote an actual review and reviewers who just provided a star rating).\n",
    "\n",
    "The formula you can use is something like:\n",
    "\n",
    "(row['avg(stars)'] - row['stars']) / row['stars']\n",
    "If the skew is negative, we can interpret that to be: reviewers who left a written response were more dissatisfied than normal. If skew is positive, we can interpret that to be: reviewers who left a written response were more satisfied than normal."
   ]
  },
  {
   "cell_type": "markdown",
   "id": "07740179",
   "metadata": {},
   "source": [
    "Using our merged dataframe we will calculate the skewness of our data and add that as a new colum to merge_df."
   ]
  },
  {
   "cell_type": "code",
   "execution_count": 20,
   "id": "6e05a430",
   "metadata": {},
   "outputs": [
    {
     "data": {
      "application/vnd.jupyter.widget-view+json": {
       "model_id": "9552a7f2c0424e69985cf99dab115904",
       "version_major": 2,
       "version_minor": 0
      },
      "text/plain": [
       "VBox()"
      ]
     },
     "metadata": {},
     "output_type": "display_data"
    },
    {
     "data": {
      "application/vnd.jupyter.widget-view+json": {
       "model_id": "",
       "version_major": 2,
       "version_minor": 0
      },
      "text/plain": [
       "FloatProgress(value=0.0, bar_style='info', description='Progress:', layout=Layout(height='25px', width='50%'),…"
      ]
     },
     "metadata": {},
     "output_type": "display_data"
    },
    {
     "name": "stdout",
     "output_type": "stream",
     "text": [
      "+--------------------+------------------+-----+--------------------+----------+-----+--------------------+\n",
      "|         business_id|         avg_stars|stars|                name|      city|state|                Skew|\n",
      "+--------------------+------------------+-----+--------------------+----------+-----+--------------------+\n",
      "|--JuLhLvq3gyjNnXT...|               5.0|  5.0|    CheraBella Salon|   Peabody|   MA|                 0.0|\n",
      "|--_nBudPOb1lNRgKf...|             3.875|  4.0|Mezcal Cantina & ...|  Columbus|   OH|            -0.03125|\n",
      "|--kyOk0waSrCDlbSv...|3.8666666666666667|  4.0|    Red Table Coffee|    Austin|   TX|-0.03333333333333...|\n",
      "|--z9usx6Fin8P_f0v...|               5.0|  5.0|          WonderWell|    Austin|   TX|                 0.0|\n",
      "|-0qeY1293steyCqYh...|             3.375|  3.5|         Avalon Oaks|Wilmington|   MA|-0.03571428571428571|\n",
      "+--------------------+------------------+-----+--------------------+----------+-----+--------------------+\n",
      "only showing top 5 rows"
     ]
    }
   ],
   "source": [
    "# First Attempt\n",
    "merge_df1 = merge_df # create temp dataframe\n",
    "merge_df1 = merge_df1.withColumnRenamed(\"avg(stars)\",\"avg_stars\") # rename because \"avg(stars)\" causes problem in sql\n",
    "merge_df1.registerTempTable('merge_df_table')\n",
    "skewDF = sqlContext.sql('select *, (avg_stars - stars) / stars as Skew from merge_df_table')\n",
    "skewDF.show(5)"
   ]
  },
  {
   "cell_type": "code",
   "execution_count": 21,
   "id": "fcdb3121",
   "metadata": {
    "scrolled": false
   },
   "outputs": [
    {
     "data": {
      "application/vnd.jupyter.widget-view+json": {
       "model_id": "34b1a476dfcb49b48eefa803f7168b61",
       "version_major": 2,
       "version_minor": 0
      },
      "text/plain": [
       "VBox()"
      ]
     },
     "metadata": {},
     "output_type": "display_data"
    },
    {
     "data": {
      "application/vnd.jupyter.widget-view+json": {
       "model_id": "",
       "version_major": 2,
       "version_minor": 0
      },
      "text/plain": [
       "FloatProgress(value=0.0, bar_style='info', description='Progress:', layout=Layout(height='25px', width='50%'),…"
      ]
     },
     "metadata": {},
     "output_type": "display_data"
    },
    {
     "name": "stdout",
     "output_type": "stream",
     "text": [
      "+--------------------+------------------+-----+--------------------+----------+-----+--------------------+\n",
      "|         business_id|        avg(stars)|stars|                name|      city|state|                skew|\n",
      "+--------------------+------------------+-----+--------------------+----------+-----+--------------------+\n",
      "|--JuLhLvq3gyjNnXT...|               5.0|  5.0|    CheraBella Salon|   Peabody|   MA|                 0.0|\n",
      "|--_nBudPOb1lNRgKf...|             3.875|  4.0|Mezcal Cantina & ...|  Columbus|   OH|            -0.03125|\n",
      "|--kyOk0waSrCDlbSv...|3.8666666666666667|  4.0|    Red Table Coffee|    Austin|   TX|-0.03333333333333...|\n",
      "|--z9usx6Fin8P_f0v...|               5.0|  5.0|          WonderWell|    Austin|   TX|                 0.0|\n",
      "|-0qeY1293steyCqYh...|             3.375|  3.5|         Avalon Oaks|Wilmington|   MA|-0.03571428571428571|\n",
      "+--------------------+------------------+-----+--------------------+----------+-----+--------------------+\n",
      "only showing top 5 rows"
     ]
    }
   ],
   "source": [
    "# Second Attempt to validate \n",
    "merge_skew = merge_df.withColumn('skew',  (col(\"avg(stars)\") - col(\"stars\")) / col(\"stars\"))\n",
    "merge_skew.show(5)"
   ]
  },
  {
   "cell_type": "markdown",
   "id": "fbfeaa05",
   "metadata": {},
   "source": [
    "And finally, graph it!\n",
    "\n",
    "First we need to convert it to a pandas dataframe to plot with matplotlib/ seaborn like before."
   ]
  },
  {
   "cell_type": "code",
   "execution_count": 22,
   "id": "e49d4c59",
   "metadata": {},
   "outputs": [
    {
     "data": {
      "application/vnd.jupyter.widget-view+json": {
       "model_id": "2d4118783566451b924c9dde01b21492",
       "version_major": 2,
       "version_minor": 0
      },
      "text/plain": [
       "VBox()"
      ]
     },
     "metadata": {},
     "output_type": "display_data"
    },
    {
     "data": {
      "application/vnd.jupyter.widget-view+json": {
       "model_id": "",
       "version_major": 2,
       "version_minor": 0
      },
      "text/plain": [
       "FloatProgress(value=0.0, bar_style='info', description='Progress:', layout=Layout(height='25px', width='50%'),…"
      ]
     },
     "metadata": {},
     "output_type": "display_data"
    },
    {
     "data": {
      "image/png": "[encoded data removed]",
      "text/plain": [
       "<IPython.core.display.Image object>"
      ]
     },
     "metadata": {},
     "output_type": "display_data"
    }
   ],
   "source": [
    "#convert to pandas df\n",
    "skew_plot = merge_skew.select('skew').toPandas()\n",
    "\n",
    "#Set our seaborn theme, plot dimensions and plot figure\n",
    "plt.figure(figsize=(14,7), dpi = 150)\n",
    "sns.set_theme()\n",
    "sk_plot = sns.distplot(skew_plot,color='green', kde=True)\n",
    "plt.title(\"Skewness of Yelp Reviews\", weight='bold', size=20)\n",
    "sk_plot.set_xlabel('Skewness', size=16)\n",
    "plt.tight_layout()\n",
    "%matplot plt\n"
   ]
  },
  {
   "cell_type": "markdown",
   "id": "d55fb95c",
   "metadata": {},
   "source": [
    "Before we make any comments on  the graph above we will go a little further and test for normality by also taking into account the kurtosis of the data"
   ]
  },
  {
   "cell_type": "code",
   "execution_count": 23,
   "id": "fcdc95bf",
   "metadata": {
    "scrolled": true
   },
   "outputs": [
    {
     "data": {
      "application/vnd.jupyter.widget-view+json": {
       "model_id": "349d22d8659247c1bde294e1a910d331",
       "version_major": 2,
       "version_minor": 0
      },
      "text/plain": [
       "VBox()"
      ]
     },
     "metadata": {},
     "output_type": "display_data"
    },
    {
     "data": {
      "application/vnd.jupyter.widget-view+json": {
       "model_id": "",
       "version_major": 2,
       "version_minor": 0
      },
      "text/plain": [
       "FloatProgress(value=0.0, bar_style='info', description='Progress:', layout=Layout(height='25px', width='50%'),…"
      ]
     },
     "metadata": {},
     "output_type": "display_data"
    },
    {
     "name": "stdout",
     "output_type": "stream",
     "text": [
      "mean :  [3.6517699800262613]\n",
      "var  :  [0.8639332056575321]\n",
      "skew :  [-0.56305766]\n",
      "kurt :  [-0.29322145]"
     ]
    }
   ],
   "source": [
    "# Importing some additional packages\n",
    "from scipy.stats import kurtosis\n",
    "from scipy.stats import skew\n",
    "\n",
    "# Cal mean and variance skew and kurtosis of the average star rating\n",
    "sk_avg_star = merge_skew.select('avg(stars)').toPandas()\n",
    "sk_mean = np.mean(sk_avg_star)\n",
    "sk_var = np.var(sk_avg_star)\n",
    "\n",
    "print(\"mean : \", list(sk_mean))\n",
    "print(\"var  : \", list(sk_var))\n",
    "print(\"skew : \",skew(sk_avg_star))\n",
    "print(\"kurt : \",kurtosis(sk_avg_star))"
   ]
  },
  {
   "cell_type": "code",
   "execution_count": 24,
   "id": "0ef505c1",
   "metadata": {},
   "outputs": [
    {
     "data": {
      "application/vnd.jupyter.widget-view+json": {
       "model_id": "1c396f52e5ee47738ea55ca55e79b168",
       "version_major": 2,
       "version_minor": 0
      },
      "text/plain": [
       "VBox()"
      ]
     },
     "metadata": {},
     "output_type": "display_data"
    },
    {
     "data": {
      "application/vnd.jupyter.widget-view+json": {
       "model_id": "",
       "version_major": 2,
       "version_minor": 0
      },
      "text/plain": [
       "FloatProgress(value=0.0, bar_style='info', description='Progress:', layout=Layout(height='25px', width='50%'),…"
      ]
     },
     "metadata": {},
     "output_type": "display_data"
    },
    {
     "data": {
      "image/png": "[encoded data removed]",
      "text/plain": [
       "<IPython.core.display.Image object>"
      ]
     },
     "metadata": {},
     "output_type": "display_data"
    }
   ],
   "source": [
    "# Plotting Normal distribution and distribution of Average Star rating\n",
    "fig, axes = plt.subplots(1, 2, figsize=(15, 5), sharey=True)\n",
    "fig.suptitle('Distribution Comparison')\n",
    "axes[0].set_title('Title of the first chart')\n",
    "\n",
    "# Normal Distribution\n",
    "sns.set_theme(); np.random.seed(0)\n",
    "x = np.random.randn(100)\n",
    "ax1 = sns.distplot(ax=axes[0],x=x)\n",
    "axes[0].set_title(\"Normal Distribution\")\n",
    "\n",
    "# Avg Star Rating\n",
    "ax2 = sns.distplot(ax=axes[1],x=sk_avg_star)\n",
    "axes[1].set_title(\"Average Star Distribution\")\n",
    "\n",
    "%matplot plt"
   ]
  },
  {
   "cell_type": "markdown",
   "id": "3ec1fb52",
   "metadata": {},
   "source": [
    "**Discussion**:\n",
    "In Statistics and Finance, Skewness is a measure of the asymmetry of the probability distribution of a random variable about its mean.In other words it measures if density to the left of the mean is similar to the density to the right of the mean. Skewness can take on a negative or positive value with a value of 0 indicating perfect symmetry(no skew) while values less than -1 or greater than 1 indicate that the distribution is highly skewed.\n",
    "\n",
    "On the otherhand Kurtosis refers to the shape of the distribution specifically it is a measure of how \"heavy-tailed\" or \"light-tailed\" a distribution is relative to the Normal Distribution. With that in mind we can see that data with high kurtosis have heavier tails indicating outliers while those with low kurtosis tend to have lighter tails and no outliers.\n",
    "\n",
    "These two values are usually used in tandem to ascertain the \"normality\" of a dataset. Testing for normality is important because it allows those studying the data to be more careful and precise when choosing what methods and tools to use to best analyze the data. To answer the specific question posed we can see by inspecting our Skewness plot that the Yelp Reviews do indeed tend to skew negative (slightly) which is further confirmed when we calculated the skew and it had a value of ```-0.56305766```.This is also further confirmed by our distribution plot of the Average star rating which was left skewed i.e having a long left tail indicating a negative skew in the data.\n",
    "When it comes to Kurtosis we calculated a value of ```-0.29322145``` which indicated our data had sligtly lighter tails than the normal distribution and was unlikely to contain outliers.\n",
    "\n",
    "**Conclusion**:\n",
    "Based on our plot and the calculated values we can say that the Yelp reviews tend to have a negative skew even if only slightly. We can also see that it likely that our data is not normal. "
   ]
  },
  {
   "cell_type": "markdown",
   "id": "eecf276f",
   "metadata": {},
   "source": [
    "## Part 4. Should the Elite be Trusted? "
   ]
  },
  {
   "cell_type": "markdown",
   "id": "3259cf3e",
   "metadata": {},
   "source": [
    "Our final investigation into the Yelp dataset will be trying to ascertain how accurate or close the ratings of the ***elite*** users are to other ___non-elite___ users. We will utilize the **users** dataset and combine it with **business** and or **reviews** dataset and provide atleast one visualization."
   ]
  },
  {
   "cell_type": "code",
   "execution_count": 25,
   "id": "68c91311",
   "metadata": {},
   "outputs": [
    {
     "data": {
      "application/vnd.jupyter.widget-view+json": {
       "model_id": "071ec8cc617e4fe79d3bc17a0f102234",
       "version_major": 2,
       "version_minor": 0
      },
      "text/plain": [
       "VBox()"
      ]
     },
     "metadata": {},
     "output_type": "display_data"
    },
    {
     "data": {
      "application/vnd.jupyter.widget-view+json": {
       "model_id": "",
       "version_major": 2,
       "version_minor": 0
      },
      "text/plain": [
       "FloatProgress(value=0.0, bar_style='info', description='Progress:', layout=Layout(height='25px', width='50%'),…"
      ]
     },
     "metadata": {},
     "output_type": "display_data"
    },
    {
     "name": "stdout",
     "output_type": "stream",
     "text": [
      "root\n",
      " |-- average_stars: double (nullable = true)\n",
      " |-- compliment_cool: long (nullable = true)\n",
      " |-- compliment_cute: long (nullable = true)\n",
      " |-- compliment_funny: long (nullable = true)\n",
      " |-- compliment_hot: long (nullable = true)\n",
      " |-- compliment_list: long (nullable = true)\n",
      " |-- compliment_more: long (nullable = true)\n",
      " |-- compliment_note: long (nullable = true)\n",
      " |-- compliment_photos: long (nullable = true)\n",
      " |-- compliment_plain: long (nullable = true)\n",
      " |-- compliment_profile: long (nullable = true)\n",
      " |-- compliment_writer: long (nullable = true)\n",
      " |-- cool: long (nullable = true)\n",
      " |-- elite: string (nullable = true)\n",
      " |-- fans: long (nullable = true)\n",
      " |-- friends: string (nullable = true)\n",
      " |-- funny: long (nullable = true)\n",
      " |-- name: string (nullable = true)\n",
      " |-- review_count: long (nullable = true)\n",
      " |-- useful: long (nullable = true)\n",
      " |-- user_id: string (nullable = true)\n",
      " |-- yelping_since: string (nullable = true)"
     ]
    }
   ],
   "source": [
    "# load the user data set\n",
    "usr_df = spark.read.json('s3://sta9760-datasets-jay/yelp_academic_dataset_user.json')\n",
    "usr_df.printSchema()"
   ]
  },
  {
   "cell_type": "markdown",
   "id": "8ed99ea9",
   "metadata": {},
   "source": [
    "Upon seeing the schema lets take a look at the name, elite, review_count, average_stars columns etc."
   ]
  },
  {
   "cell_type": "code",
   "execution_count": 26,
   "id": "54765b9f",
   "metadata": {},
   "outputs": [
    {
     "data": {
      "application/vnd.jupyter.widget-view+json": {
       "model_id": "650f26ca59b64ebc86c7574c1cc985ae",
       "version_major": 2,
       "version_minor": 0
      },
      "text/plain": [
       "VBox()"
      ]
     },
     "metadata": {},
     "output_type": "display_data"
    },
    {
     "data": {
      "application/vnd.jupyter.widget-view+json": {
       "model_id": "",
       "version_major": 2,
       "version_minor": 0
      },
      "text/plain": [
       "FloatProgress(value=0.0, bar_style='info', description='Progress:', layout=Layout(height='25px', width='50%'),…"
      ]
     },
     "metadata": {},
     "output_type": "display_data"
    },
    {
     "name": "stdout",
     "output_type": "stream",
     "text": [
      "+--------------------+---------+--------------------+------------+-------------+-----+-----+------+----+-------------------+\n",
      "|             user_id|     name|               elite|review_count|average_stars| cool|funny|useful|fans|      yelping_since|\n",
      "+--------------------+---------+--------------------+------------+-------------+-----+-----+------+----+-------------------+\n",
      "|q_QQ5kBBwlCcbL1s4...|     Jane|2006,2007,2008,20...|        1220|         3.85|11291|10030| 15038|1357|2005-03-14 20:26:35|\n",
      "|dIIKEfOgo0KqUfGQv...|     Gabi|2007,2008,2009,20...|        2136|         4.09|18046|10289| 21272|1025|2007-08-10 19:01:51|\n",
      "|D6ErcUnFALnCQN4b1...|    Jason|           2010,2011|         119|         3.76|  130|  128|   188|  16|2007-02-07 15:47:53|\n",
      "|JnPIjvC0cmooNDfsa...|      Kat|2009,2010,2011,20...|         987|         3.77| 4035| 4722|  7234| 420|2009-02-09 16:14:29|\n",
      "|37Hc8hr3cw0iHLoPz...|Christine|      2009,2010,2011|         495|         3.72| 1124|  727|  1577|  47|2008-03-03 04:57:05|\n",
      "+--------------------+---------+--------------------+------------+-------------+-----+-----+------+----+-------------------+\n",
      "only showing top 5 rows"
     ]
    }
   ],
   "source": [
    "peak = usr_df.select('user_id', 'name', 'elite', 'review_count', 'average_stars','cool', 'funny', 'useful','fans', 'yelping_since').show(5)"
   ]
  },
  {
   "cell_type": "markdown",
   "id": "6545dbe9",
   "metadata": {},
   "source": [
    "### Elite vs Non-elite %\n",
    "When it comes to the elite column we see that it seems to be nested over the years for each elite yelper and therefore we need to first create associations tables like we did before. From there we can then separate based on elite status and calculate elite percentages and investigate the \"useful\" rating to help answer the question of trust."
   ]
  },
  {
   "cell_type": "code",
   "execution_count": 27,
   "id": "e72af752",
   "metadata": {},
   "outputs": [
    {
     "data": {
      "application/vnd.jupyter.widget-view+json": {
       "model_id": "80a02b2c7ee94aa4b292c93853d2091c",
       "version_major": 2,
       "version_minor": 0
      },
      "text/plain": [
       "VBox()"
      ]
     },
     "metadata": {},
     "output_type": "display_data"
    },
    {
     "data": {
      "application/vnd.jupyter.widget-view+json": {
       "model_id": "",
       "version_major": 2,
       "version_minor": 0
      },
      "text/plain": [
       "FloatProgress(value=0.0, bar_style='info', description='Progress:', layout=Layout(height='25px', width='50%'),…"
      ]
     },
     "metadata": {},
     "output_type": "display_data"
    },
    {
     "name": "stdout",
     "output_type": "stream",
     "text": [
      "+--------------------+----+------+-----+\n",
      "|             user_id|name|useful|elite|\n",
      "+--------------------+----+------+-----+\n",
      "|q_QQ5kBBwlCcbL1s4...|Jane| 15038| 2006|\n",
      "|q_QQ5kBBwlCcbL1s4...|Jane| 15038| 2007|\n",
      "|q_QQ5kBBwlCcbL1s4...|Jane| 15038| 2008|\n",
      "|q_QQ5kBBwlCcbL1s4...|Jane| 15038| 2009|\n",
      "|q_QQ5kBBwlCcbL1s4...|Jane| 15038| 2010|\n",
      "+--------------------+----+------+-----+\n",
      "only showing top 5 rows"
     ]
    }
   ],
   "source": [
    "#Splitting the elite column\n",
    "split_elite = usr_df.select('user_id','name','useful', explode(split(usr_df.elite, ',')).alias('elite'))\n",
    "split_elite.show(5)"
   ]
  },
  {
   "cell_type": "code",
   "execution_count": 28,
   "id": "dd76732b",
   "metadata": {},
   "outputs": [
    {
     "data": {
      "application/vnd.jupyter.widget-view+json": {
       "model_id": "6fcdbef263de45d5b9fdf7cd88488760",
       "version_major": 2,
       "version_minor": 0
      },
      "text/plain": [
       "VBox()"
      ]
     },
     "metadata": {},
     "output_type": "display_data"
    },
    {
     "data": {
      "application/vnd.jupyter.widget-view+json": {
       "model_id": "",
       "version_major": 2,
       "version_minor": 0
      },
      "text/plain": [
       "FloatProgress(value=0.0, bar_style='info', description='Progress:', layout=Layout(height='25px', width='50%'),…"
      ]
     },
     "metadata": {},
     "output_type": "display_data"
    },
    {
     "name": "stdout",
     "output_type": "stream",
     "text": [
      "Total Columns: 4\n",
      "Total Rows: 2,465,137"
     ]
    }
   ],
   "source": [
    "#Display Total Columns & Rows & dataframe schema below\n",
    "print(f'Total Columns: {len(split_elite.dtypes)}')\n",
    "print(f'Total Rows: {split_elite.count():,}')"
   ]
  },
  {
   "cell_type": "code",
   "execution_count": 29,
   "id": "5ceca34e",
   "metadata": {},
   "outputs": [
    {
     "data": {
      "application/vnd.jupyter.widget-view+json": {
       "model_id": "3ba71a0a96814c148923deb5028ac785",
       "version_major": 2,
       "version_minor": 0
      },
      "text/plain": [
       "VBox()"
      ]
     },
     "metadata": {},
     "output_type": "display_data"
    },
    {
     "data": {
      "application/vnd.jupyter.widget-view+json": {
       "model_id": "",
       "version_major": 2,
       "version_minor": 0
      },
      "text/plain": [
       "FloatProgress(value=0.0, bar_style='info', description='Progress:', layout=Layout(height='25px', width='50%'),…"
      ]
     },
     "metadata": {},
     "output_type": "display_data"
    },
    {
     "name": "stdout",
     "output_type": "stream",
     "text": [
      "+-----+-------+\n",
      "|elite|  count|\n",
      "+-----+-------+\n",
      "|     |2094043|\n",
      "|   20|  84038|\n",
      "| 2019|  47631|\n",
      "| 2018|  44955|\n",
      "| 2017|  39659|\n",
      "| 2016|  32770|\n",
      "| 2015|  27238|\n",
      "| 2014|  20856|\n",
      "| 2013|  18416|\n",
      "| 2012|  17679|\n",
      "| 2011|  12832|\n",
      "| 2010|  10504|\n",
      "| 2009|   6806|\n",
      "| 2008|   4091|\n",
      "| 2007|   2606|\n",
      "| 2006|   1013|\n",
      "+-----+-------+"
     ]
    }
   ],
   "source": [
    "# Do a quick check on elite counts\n",
    "split_elite.groupBy('elite').count().orderBy('count', ascending=False).show()"
   ]
  },
  {
   "cell_type": "code",
   "execution_count": 30,
   "id": "8e07f7a2",
   "metadata": {},
   "outputs": [
    {
     "data": {
      "application/vnd.jupyter.widget-view+json": {
       "model_id": "41d88e821d5c4893997eb8ab6b8530e0",
       "version_major": 2,
       "version_minor": 0
      },
      "text/plain": [
       "VBox()"
      ]
     },
     "metadata": {},
     "output_type": "display_data"
    },
    {
     "data": {
      "application/vnd.jupyter.widget-view+json": {
       "model_id": "",
       "version_major": 2,
       "version_minor": 0
      },
      "text/plain": [
       "FloatProgress(value=0.0, bar_style='info', description='Progress:', layout=Layout(height='25px', width='50%'),…"
      ]
     },
     "metadata": {},
     "output_type": "display_data"
    },
    {
     "name": "stdout",
     "output_type": "stream",
     "text": [
      "+-----+------+------+\n",
      "|elite|useful| count|\n",
      "+-----+------+------+\n",
      "|     |     0|546528|\n",
      "|     |     1|274846|\n",
      "|     |     2|179677|\n",
      "|     |     3|130621|\n",
      "|     |     4|101030|\n",
      "|     |     5| 80836|\n",
      "|     |     6| 67207|\n",
      "|     |     7| 56656|\n",
      "|     |     8| 48912|\n",
      "|     |     9| 42443|\n",
      "|     |    10| 37780|\n",
      "|     |    11| 33161|\n",
      "|     |    12| 29675|\n",
      "|     |    13| 26740|\n",
      "|     |    14| 24020|\n",
      "|     |    15| 21981|\n",
      "|     |    16| 19917|\n",
      "|     |    17| 18408|\n",
      "|     |    18| 16920|\n",
      "|     |    19| 15774|\n",
      "+-----+------+------+\n",
      "only showing top 20 rows"
     ]
    }
   ],
   "source": [
    "# Do a quick check on elite useful counts\n",
    "split_elite.groupBy('elite','useful').count().orderBy('count', ascending=False).show()"
   ]
  },
  {
   "cell_type": "markdown",
   "id": "77ca5e87",
   "metadata": {},
   "source": [
    "I am interested in first finding what percentage of the data is elite vs non-elite. From the elite count table above we can see that the empty space \"  \" respresents those reviews which were done by non-elite (```2094043``` in total) where as the other vals 20, 2019 and so on represent the counts for the number of elite reviews for each year. To find this percentage we need to separate the two. "
   ]
  },
  {
   "cell_type": "code",
   "execution_count": 31,
   "id": "e1141ea0",
   "metadata": {
    "scrolled": true
   },
   "outputs": [
    {
     "data": {
      "application/vnd.jupyter.widget-view+json": {
       "model_id": "70a656d1cdec4d928e1c12063151a945",
       "version_major": 2,
       "version_minor": 0
      },
      "text/plain": [
       "VBox()"
      ]
     },
     "metadata": {},
     "output_type": "display_data"
    },
    {
     "data": {
      "application/vnd.jupyter.widget-view+json": {
       "model_id": "",
       "version_major": 2,
       "version_minor": 0
      },
      "text/plain": [
       "FloatProgress(value=0.0, bar_style='info', description='Progress:', layout=Layout(height='25px', width='50%'),…"
      ]
     },
     "metadata": {},
     "output_type": "display_data"
    },
    {
     "name": "stdout",
     "output_type": "stream",
     "text": [
      "Total elite: 371,094\n",
      "Total non-elite: 2,094,043\n",
      "Therefore the dataset contains 15.05% elites and 84.95% of non-elites."
     ]
    }
   ],
   "source": [
    "# Filter for elite and non-elite, count and calculate percentage\n",
    "e_count = split_elite.filter(split_elite.elite != '')\n",
    "print(f'Total elite: {e_count.count():,}')\n",
    "\n",
    "ne_count = split_elite.filter(split_elite.elite == '')\n",
    "print(f'Total non-elite: {ne_count.count():,}')\n",
    "\n",
    "e_perc = round((e_count.count()/(e_count.count()+ne_count.count()))*100,2)\n",
    "ne_perc = round((ne_count.count()/(e_count.count()+ne_count.count()))*100,2)\n",
    "\n",
    "print(\"Therefore the dataset contains \" + str(e_perc) +\"% elites and \"+ str(ne_perc) +\"% of non-elites.\")\n",
    "\n",
    "#e_count.toPandas().info() # another way to check count\n",
    "#e_count.summary().show() # another way to check count"
   ]
  },
  {
   "cell_type": "markdown",
   "id": "a81e042d",
   "metadata": {},
   "source": [
    "Since there is such large disparity in the percentages between the two categories it doesnt make sense for us to investigate the \"fan\" counts or the \"useful\" rating count to make a decision on trust since it is likely the greatest counts will go to the non-elites. Therefore what we can do is focus on the ratings of each group."
   ]
  },
  {
   "cell_type": "code",
   "execution_count": 32,
   "id": "ff5f19fd",
   "metadata": {
    "scrolled": true
   },
   "outputs": [
    {
     "data": {
      "application/vnd.jupyter.widget-view+json": {
       "model_id": "09818b6e52c74fa7a6a73a35dc87e74e",
       "version_major": 2,
       "version_minor": 0
      },
      "text/plain": [
       "VBox()"
      ]
     },
     "metadata": {},
     "output_type": "display_data"
    },
    {
     "data": {
      "application/vnd.jupyter.widget-view+json": {
       "model_id": "",
       "version_major": 2,
       "version_minor": 0
      },
      "text/plain": [
       "FloatProgress(value=0.0, bar_style='info', description='Progress:', layout=Layout(height='25px', width='50%'),…"
      ]
     },
     "metadata": {},
     "output_type": "display_data"
    },
    {
     "name": "stdout",
     "output_type": "stream",
     "text": [
      "+---------+-------+\n",
      "|Category |Count  |\n",
      "+---------+-------+\n",
      "|Elite    |371094 |\n",
      "|Non-Elite|2094043|\n",
      "+---------+-------+"
     ]
    }
   ],
   "source": [
    "# Attempt to create a pyspark dataframe of the percentages for plotting\n",
    "from pyspark.sql.types import StructType,StructField, StringType, IntegerType\n",
    "data2 = [(\"Elite\",371094),\n",
    "    (\"Non-Elite\",2094043)\n",
    "  ]\n",
    "\n",
    "schema = StructType([ \\\n",
    "    StructField(\"Category\",StringType(),True), \\\n",
    "    StructField(\"Count\", IntegerType(), True) \\\n",
    "  ])\n",
    " \n",
    "perc_df = spark.createDataFrame(data=data2,schema=schema)\n",
    "#df.printSchema()\n",
    "perc_df.show(truncate=False)\n"
   ]
  },
  {
   "cell_type": "code",
   "execution_count": 33,
   "id": "1374ca42",
   "metadata": {},
   "outputs": [
    {
     "data": {
      "application/vnd.jupyter.widget-view+json": {
       "model_id": "8ba768b27386456d814615f6b2f34317",
       "version_major": 2,
       "version_minor": 0
      },
      "text/plain": [
       "VBox()"
      ]
     },
     "metadata": {},
     "output_type": "display_data"
    },
    {
     "data": {
      "application/vnd.jupyter.widget-view+json": {
       "model_id": "",
       "version_major": 2,
       "version_minor": 0
      },
      "text/plain": [
       "FloatProgress(value=0.0, bar_style='info', description='Progress:', layout=Layout(height='25px', width='50%'),…"
      ]
     },
     "metadata": {},
     "output_type": "display_data"
    },
    {
     "data": {
      "image/png": "[encoded data removed]",
      "text/plain": [
       "<IPython.core.display.Image object>"
      ]
     },
     "metadata": {},
     "output_type": "display_data"
    }
   ],
   "source": [
    "#Convert to pandas and prepare for plot\n",
    "perc_tem= perc_df.toPandas()\n",
    "perc_pl = perc_tem.groupby(\"Category\")[\"Count\"].sum()\n",
    "\n",
    "#set the plot figure and plot pie chart\n",
    "pie, ax = plt.subplots(figsize=[10,6])\n",
    "labels = perc_pl.keys()\n",
    "plt.pie(x=perc_pl, autopct=\"%.1f%%\", labels=labels, pctdistance=0.5)\n",
    "plt.title(\"Elite vs Non-Elite %\", fontsize=14);\n",
    "%matplot plt"
   ]
  },
  {
   "cell_type": "code",
   "execution_count": null,
   "id": "fd829d25",
   "metadata": {},
   "outputs": [],
   "source": []
  },
  {
   "cell_type": "code",
   "execution_count": 34,
   "id": "622a41a8",
   "metadata": {},
   "outputs": [
    {
     "data": {
      "application/vnd.jupyter.widget-view+json": {
       "model_id": "679e20d7bf96441da8fe9eb9b5fabd5d",
       "version_major": 2,
       "version_minor": 0
      },
      "text/plain": [
       "VBox()"
      ]
     },
     "metadata": {},
     "output_type": "display_data"
    },
    {
     "data": {
      "application/vnd.jupyter.widget-view+json": {
       "model_id": "",
       "version_major": 2,
       "version_minor": 0
      },
      "text/plain": [
       "FloatProgress(value=0.0, bar_style='info', description='Progress:', layout=Layout(height='25px', width='50%'),…"
      ]
     },
     "metadata": {},
     "output_type": "display_data"
    },
    {
     "name": "stdout",
     "output_type": "stream",
     "text": [
      "root\n",
      " |-- business_id: string (nullable = true)\n",
      " |-- cool: long (nullable = true)\n",
      " |-- date: string (nullable = true)\n",
      " |-- funny: long (nullable = true)\n",
      " |-- review_id: string (nullable = true)\n",
      " |-- stars: double (nullable = true)\n",
      " |-- text: string (nullable = true)\n",
      " |-- useful: long (nullable = true)\n",
      " |-- user_id: string (nullable = true)\n",
      "\n",
      "root\n",
      " |-- average_stars: double (nullable = true)\n",
      " |-- compliment_cool: long (nullable = true)\n",
      " |-- compliment_cute: long (nullable = true)\n",
      " |-- compliment_funny: long (nullable = true)\n",
      " |-- compliment_hot: long (nullable = true)\n",
      " |-- compliment_list: long (nullable = true)\n",
      " |-- compliment_more: long (nullable = true)\n",
      " |-- compliment_note: long (nullable = true)\n",
      " |-- compliment_photos: long (nullable = true)\n",
      " |-- compliment_plain: long (nullable = true)\n",
      " |-- compliment_profile: long (nullable = true)\n",
      " |-- compliment_writer: long (nullable = true)\n",
      " |-- cool: long (nullable = true)\n",
      " |-- elite: string (nullable = true)\n",
      " |-- fans: long (nullable = true)\n",
      " |-- friends: string (nullable = true)\n",
      " |-- funny: long (nullable = true)\n",
      " |-- name: string (nullable = true)\n",
      " |-- review_count: long (nullable = true)\n",
      " |-- useful: long (nullable = true)\n",
      " |-- user_id: string (nullable = true)\n",
      " |-- yelping_since: string (nullable = true)\n",
      "\n",
      "root\n",
      " |-- address: string (nullable = true)\n",
      " |-- attributes: struct (nullable = true)\n",
      " |    |-- AcceptsInsurance: string (nullable = true)\n",
      " |    |-- AgesAllowed: string (nullable = true)\n",
      " |    |-- Alcohol: string (nullable = true)\n",
      " |    |-- Ambience: string (nullable = true)\n",
      " |    |-- BYOB: string (nullable = true)\n",
      " |    |-- BYOBCorkage: string (nullable = true)\n",
      " |    |-- BestNights: string (nullable = true)\n",
      " |    |-- BikeParking: string (nullable = true)\n",
      " |    |-- BusinessAcceptsBitcoin: string (nullable = true)\n",
      " |    |-- BusinessAcceptsCreditCards: string (nullable = true)\n",
      " |    |-- BusinessParking: string (nullable = true)\n",
      " |    |-- ByAppointmentOnly: string (nullable = true)\n",
      " |    |-- Caters: string (nullable = true)\n",
      " |    |-- CoatCheck: string (nullable = true)\n",
      " |    |-- Corkage: string (nullable = true)\n",
      " |    |-- DietaryRestrictions: string (nullable = true)\n",
      " |    |-- DogsAllowed: string (nullable = true)\n",
      " |    |-- DriveThru: string (nullable = true)\n",
      " |    |-- GoodForDancing: string (nullable = true)\n",
      " |    |-- GoodForKids: string (nullable = true)\n",
      " |    |-- GoodForMeal: string (nullable = true)\n",
      " |    |-- HairSpecializesIn: string (nullable = true)\n",
      " |    |-- HappyHour: string (nullable = true)\n",
      " |    |-- HasTV: string (nullable = true)\n",
      " |    |-- Music: string (nullable = true)\n",
      " |    |-- NoiseLevel: string (nullable = true)\n",
      " |    |-- Open24Hours: string (nullable = true)\n",
      " |    |-- OutdoorSeating: string (nullable = true)\n",
      " |    |-- RestaurantsAttire: string (nullable = true)\n",
      " |    |-- RestaurantsCounterService: string (nullable = true)\n",
      " |    |-- RestaurantsDelivery: string (nullable = true)\n",
      " |    |-- RestaurantsGoodForGroups: string (nullable = true)\n",
      " |    |-- RestaurantsPriceRange2: string (nullable = true)\n",
      " |    |-- RestaurantsReservations: string (nullable = true)\n",
      " |    |-- RestaurantsTableService: string (nullable = true)\n",
      " |    |-- RestaurantsTakeOut: string (nullable = true)\n",
      " |    |-- Smoking: string (nullable = true)\n",
      " |    |-- WheelchairAccessible: string (nullable = true)\n",
      " |    |-- WiFi: string (nullable = true)\n",
      " |-- business_id: string (nullable = true)\n",
      " |-- categories: string (nullable = true)\n",
      " |-- city: string (nullable = true)\n",
      " |-- hours: struct (nullable = true)\n",
      " |    |-- Friday: string (nullable = true)\n",
      " |    |-- Monday: string (nullable = true)\n",
      " |    |-- Saturday: string (nullable = true)\n",
      " |    |-- Sunday: string (nullable = true)\n",
      " |    |-- Thursday: string (nullable = true)\n",
      " |    |-- Tuesday: string (nullable = true)\n",
      " |    |-- Wednesday: string (nullable = true)\n",
      " |-- is_open: long (nullable = true)\n",
      " |-- latitude: double (nullable = true)\n",
      " |-- longitude: double (nullable = true)\n",
      " |-- name: string (nullable = true)\n",
      " |-- postal_code: string (nullable = true)\n",
      " |-- review_count: long (nullable = true)\n",
      " |-- stars: double (nullable = true)\n",
      " |-- state: string (nullable = true)"
     ]
    }
   ],
   "source": [
    "# Use this cell to quickly review the schema for all 3 data sets.\n",
    "rev_df.printSchema()\n",
    "usr_df.printSchema()\n",
    "bus_df.printSchema()"
   ]
  },
  {
   "cell_type": "markdown",
   "id": "829a7491",
   "metadata": {},
   "source": [
    "## Joining the datasets"
   ]
  },
  {
   "cell_type": "markdown",
   "id": "5bd9fb2c",
   "metadata": {},
   "source": [
    "\n",
    "Elite users are not readily identified from the users dataset so we will split them as we did before and compare. But before we can do that it is required that we use at least one other dataset and join it to the users dataset. From reviewing the schemas above we see there isn't one singular id shared amongst them but between 2 datasets at a time case there are shared ids so we will use that to our advantage."
   ]
  },
  {
   "cell_type": "code",
   "execution_count": 35,
   "id": "4d99bbd3",
   "metadata": {
    "scrolled": true
   },
   "outputs": [
    {
     "data": {
      "application/vnd.jupyter.widget-view+json": {
       "model_id": "60a32b6391374dc79160416abbf9258f",
       "version_major": 2,
       "version_minor": 0
      },
      "text/plain": [
       "VBox()"
      ]
     },
     "metadata": {},
     "output_type": "display_data"
    },
    {
     "data": {
      "application/vnd.jupyter.widget-view+json": {
       "model_id": "",
       "version_major": 2,
       "version_minor": 0
      },
      "text/plain": [
       "FloatProgress(value=0.0, bar_style='info', description='Progress:', layout=Layout(height='25px', width='50%'),…"
      ]
     },
     "metadata": {},
     "output_type": "display_data"
    },
    {
     "name": "stdout",
     "output_type": "stream",
     "text": [
      "Review and Business dataset merged\n",
      "+--------------------+--------------------+---------+---------+-------------------+\n",
      "|         business_id|             user_id|rev_stars|bus_stars|               date|\n",
      "+--------------------+--------------------+---------+---------+-------------------+\n",
      "|buF9druCkbuXLX526...|ak0TdVmGKo4pwqdJS...|      4.0|      3.5|2014-10-11 03:34:02|\n",
      "|RA4V8pr014UyUbDvI...|YoVfDbnISlW0f7abN...|      4.0|      3.0|2015-07-03 20:38:25|\n",
      "|_sS2LBIGNT5NQb6PD...|eC5evKn1TWDyHCyQA...|      5.0|      5.0|2013-05-28 20:38:06|\n",
      "|0AzLzHfOJgL7ROwhd...|SFQ1jcnGguO0LYWnb...|      2.0|      3.5|2010-01-08 02:29:15|\n",
      "|8zehGz9jnxPqXtOc7...|0kA0PAJ8QFMeveQWH...|      4.0|      4.5|2011-07-28 18:05:01|\n",
      "+--------------------+--------------------+---------+---------+-------------------+\n",
      "only showing top 5 rows"
     ]
    }
   ],
   "source": [
    "# First select useful fields from both dataset while renaming stars to differentiate from business star ratings\n",
    "rev_df1 = rev_df.select('user_id','business_id','stars','date').withColumnRenamed('stars', 'rev_stars')\n",
    "bus_df1 = bus_df.select('business_id', 'stars').withColumnRenamed('stars', 'bus_stars')\n",
    "\n",
    "# now join review and business dataset\n",
    "rev_bus_df = rev_df1.join(bus_df1, on = ['business_id'], how = 'inner')\n",
    "rev_bus_df = rev_bus_df.select('business_id','user_id','rev_stars','bus_stars','date')\n",
    "print('Review and Business dataset merged')\n",
    "rev_bus_df.show(5)"
   ]
  },
  {
   "cell_type": "code",
   "execution_count": 36,
   "id": "8a9debde",
   "metadata": {},
   "outputs": [
    {
     "data": {
      "application/vnd.jupyter.widget-view+json": {
       "model_id": "a4ed7242d89049acb3fb2ee40a4e9f1e",
       "version_major": 2,
       "version_minor": 0
      },
      "text/plain": [
       "VBox()"
      ]
     },
     "metadata": {},
     "output_type": "display_data"
    },
    {
     "data": {
      "application/vnd.jupyter.widget-view+json": {
       "model_id": "",
       "version_major": 2,
       "version_minor": 0
      },
      "text/plain": [
       "FloatProgress(value=0.0, bar_style='info', description='Progress:', layout=Layout(height='25px', width='50%'),…"
      ]
     },
     "metadata": {},
     "output_type": "display_data"
    },
    {
     "name": "stdout",
     "output_type": "stream",
     "text": [
      "+--------------------+--------------------+---------+---------+----+\n",
      "|         business_id|             user_id|rev_stars|bus_stars|year|\n",
      "+--------------------+--------------------+---------+---------+----+\n",
      "|buF9druCkbuXLX526...|ak0TdVmGKo4pwqdJS...|      4.0|      3.5|2014|\n",
      "|RA4V8pr014UyUbDvI...|YoVfDbnISlW0f7abN...|      4.0|      3.0|2015|\n",
      "|_sS2LBIGNT5NQb6PD...|eC5evKn1TWDyHCyQA...|      5.0|      5.0|2013|\n",
      "|0AzLzHfOJgL7ROwhd...|SFQ1jcnGguO0LYWnb...|      2.0|      3.5|2010|\n",
      "|8zehGz9jnxPqXtOc7...|0kA0PAJ8QFMeveQWH...|      4.0|      4.5|2011|\n",
      "+--------------------+--------------------+---------+---------+----+\n",
      "only showing top 5 rows"
     ]
    }
   ],
   "source": [
    "# We need to change the date values to make them more readable and easier to plot \n",
    "from pyspark.sql.functions import to_date, year, mean\n",
    "\n",
    "rev_bus_df = rev_bus_df.select('business_id', 'user_id','rev_stars','bus_stars',\n",
    "                         year(to_date(rev_bus_df.date, 'yyyy-MM-dd HH:mm:ss')).alias('year'))\n",
    "rev_bus_df.show(5)"
   ]
  },
  {
   "cell_type": "code",
   "execution_count": 37,
   "id": "c0cdaea8",
   "metadata": {},
   "outputs": [
    {
     "data": {
      "application/vnd.jupyter.widget-view+json": {
       "model_id": "1b2d0745f333431fbe81ce0199f07799",
       "version_major": 2,
       "version_minor": 0
      },
      "text/plain": [
       "VBox()"
      ]
     },
     "metadata": {},
     "output_type": "display_data"
    },
    {
     "data": {
      "application/vnd.jupyter.widget-view+json": {
       "model_id": "",
       "version_major": 2,
       "version_minor": 0
      },
      "text/plain": [
       "FloatProgress(value=0.0, bar_style='info', description='Progress:', layout=Layout(height='25px', width='50%'),…"
      ]
     },
     "metadata": {},
     "output_type": "display_data"
    },
    {
     "name": "stdout",
     "output_type": "stream",
     "text": [
      "Total merged dataframe\n",
      "+--------------------+--------------------+---------+---------+----+-----+\n",
      "|             user_id|         business_id|rev_stars|bus_stars|year|elite|\n",
      "+--------------------+--------------------+---------+---------+----+-----+\n",
      "|--1UpCuUDJQbqiuFX...|GgR7kcKykuqXB11fW...|      5.0|      4.5|2018|     |\n",
      "|--3Bk72HakneTyp3D...|rxNfidGLHtMYyLNeo...|      5.0|      4.5|2017|     |\n",
      "|--3Hl2oAvTPlq-f7K...|2OaX6XjAoI7VD6jLd...|      2.0|      4.0|2016|     |\n",
      "|--3Hl2oAvTPlq-f7K...|IfOj3AxPl3Exsd_Yl...|      1.0|      4.0|2016|     |\n",
      "|--3Hl2oAvTPlq-f7K...|bAuYOa-VuqTOnKzWN...|      2.0|      4.5|2013|     |\n",
      "+--------------------+--------------------+---------+---------+----+-----+\n",
      "only showing top 5 rows"
     ]
    }
   ],
   "source": [
    "# Now to join the above dataset with the elite dataset\n",
    "split_elite1 = split_elite.select('user_id','elite')\n",
    "total_df = rev_bus_df.join(split_elite1,on='user_id', how='inner')\n",
    "print(\"Total merged dataframe\")\n",
    "total_df.show(5)"
   ]
  },
  {
   "cell_type": "code",
   "execution_count": 38,
   "id": "a1a3c836",
   "metadata": {},
   "outputs": [
    {
     "data": {
      "application/vnd.jupyter.widget-view+json": {
       "model_id": "84e30e7bb169450893af0fcfec3b2706",
       "version_major": 2,
       "version_minor": 0
      },
      "text/plain": [
       "VBox()"
      ]
     },
     "metadata": {},
     "output_type": "display_data"
    },
    {
     "data": {
      "application/vnd.jupyter.widget-view+json": {
       "model_id": "",
       "version_major": 2,
       "version_minor": 0
      },
      "text/plain": [
       "FloatProgress(value=0.0, bar_style='info', description='Progress:', layout=Layout(height='25px', width='50%'),…"
      ]
     },
     "metadata": {},
     "output_type": "display_data"
    },
    {
     "name": "stdout",
     "output_type": "stream",
     "text": [
      "Elite Data\n",
      "+--------------------+--------------------+---------+---------+----+-----+\n",
      "|             user_id|         business_id|rev_stars|bus_stars|year|elite|\n",
      "+--------------------+--------------------+---------+---------+----+-----+\n",
      "|--cd_gA-9Q8gM9P2c...|irdrKokOvuxP_atEj...|      5.0|      4.0|2019| 2019|\n",
      "|--cd_gA-9Q8gM9P2c...|irdrKokOvuxP_atEj...|      5.0|      4.0|2019|   20|\n",
      "|--cd_gA-9Q8gM9P2c...|irdrKokOvuxP_atEj...|      5.0|      4.0|2019|   20|\n",
      "|--cd_gA-9Q8gM9P2c...|y53Y_93Tz90HpefKQ...|      4.0|      3.5|2019| 2019|\n",
      "|--cd_gA-9Q8gM9P2c...|y53Y_93Tz90HpefKQ...|      4.0|      3.5|2019|   20|\n",
      "+--------------------+--------------------+---------+---------+----+-----+\n",
      "only showing top 5 rows\n",
      "\n",
      "Non-elite Data\n",
      "+--------------------+--------------------+---------+---------+----+-----+\n",
      "|             user_id|         business_id|rev_stars|bus_stars|year|elite|\n",
      "+--------------------+--------------------+---------+---------+----+-----+\n",
      "|--1UpCuUDJQbqiuFX...|GgR7kcKykuqXB11fW...|      5.0|      4.5|2018|     |\n",
      "|--3Bk72HakneTyp3D...|rxNfidGLHtMYyLNeo...|      5.0|      4.5|2017|     |\n",
      "|--3Hl2oAvTPlq-f7K...|bAuYOa-VuqTOnKzWN...|      2.0|      4.5|2013|     |\n",
      "|--3Hl2oAvTPlq-f7K...|vqQXI-Pxz3izeTUF6...|      5.0|      4.0|2018|     |\n",
      "|--3Hl2oAvTPlq-f7K...|2OaX6XjAoI7VD6jLd...|      2.0|      4.0|2016|     |\n",
      "+--------------------+--------------------+---------+---------+----+-----+\n",
      "only showing top 5 rows"
     ]
    }
   ],
   "source": [
    "# Split elite and non elite again but now from total_df\n",
    "elite = total_df.filter(total_df.elite != '')\n",
    "non_elite = total_df.filter(total_df.elite == '')\n",
    "print('Elite Data')\n",
    "elite.show(5)\n",
    "print('Non-elite Data')\n",
    "non_elite.show(5)"
   ]
  },
  {
   "cell_type": "markdown",
   "id": "92ceacb1",
   "metadata": {},
   "source": [
    "### Calculating the Average Ratings Over the Years\n",
    "We can now focus on the ratings of elites and non-elites over the years and see how close or far they are from each other."
   ]
  },
  {
   "cell_type": "code",
   "execution_count": 39,
   "id": "da3c129c",
   "metadata": {
    "scrolled": true
   },
   "outputs": [
    {
     "data": {
      "application/vnd.jupyter.widget-view+json": {
       "model_id": "ce3d3eeec11f41998bb25438e8bbe63d",
       "version_major": 2,
       "version_minor": 0
      },
      "text/plain": [
       "VBox()"
      ]
     },
     "metadata": {},
     "output_type": "display_data"
    },
    {
     "data": {
      "application/vnd.jupyter.widget-view+json": {
       "model_id": "",
       "version_major": 2,
       "version_minor": 0
      },
      "text/plain": [
       "FloatProgress(value=0.0, bar_style='info', description='Progress:', layout=Layout(height='25px', width='50%'),…"
      ]
     },
     "metadata": {},
     "output_type": "display_data"
    },
    {
     "name": "stdout",
     "output_type": "stream",
     "text": [
      "Elite\n",
      "+----+--------------------+------------------+\n",
      "|year|elite_review_ratings| elite_bus_ratings|\n",
      "+----+--------------------+------------------+\n",
      "|2007|  3.7514907966258604| 3.596941862810507|\n",
      "|2018|  3.9965006580540647| 3.856401355836273|\n",
      "|2010|   3.722710438013602| 3.647125779594581|\n",
      "|2011|   3.719965140470805| 3.643982575272907|\n",
      "|2017|  3.9535886148730306|3.8365759289235255|\n",
      "+----+--------------------+------------------+\n",
      "only showing top 5 rows"
     ]
    }
   ],
   "source": [
    "# Elite\n",
    "elite_avg_year = elite.groupBy('year').agg(mean('rev_stars'),mean('bus_stars'))\n",
    "elite_avg_year = elite_avg_year.withColumnRenamed('avg(rev_stars)', 'elite_review_ratings')\n",
    "elite_avg_year = elite_avg_year.withColumnRenamed('avg(bus_stars)', 'elite_bus_ratings')\n",
    "print('Elite')\n",
    "elite_avg_year.show(5)\n"
   ]
  },
  {
   "cell_type": "code",
   "execution_count": 40,
   "id": "505b8b43",
   "metadata": {},
   "outputs": [
    {
     "data": {
      "application/vnd.jupyter.widget-view+json": {
       "model_id": "964397c81e81491b8c27953c34b38d45",
       "version_major": 2,
       "version_minor": 0
      },
      "text/plain": [
       "VBox()"
      ]
     },
     "metadata": {},
     "output_type": "display_data"
    },
    {
     "data": {
      "application/vnd.jupyter.widget-view+json": {
       "model_id": "",
       "version_major": 2,
       "version_minor": 0
      },
      "text/plain": [
       "FloatProgress(value=0.0, bar_style='info', description='Progress:', layout=Layout(height='25px', width='50%'),…"
      ]
     },
     "metadata": {},
     "output_type": "display_data"
    },
    {
     "name": "stdout",
     "output_type": "stream",
     "text": [
      "Non-elite\n",
      "+----+------------------------+---------------------+\n",
      "|year|non_elite_review_ratings|non_elite_bus_ratings|\n",
      "+----+------------------------+---------------------+\n",
      "|2007|       3.768732038971052|    3.621486647508236|\n",
      "|2018|      3.6917618752780923|   3.7610583634869776|\n",
      "|2010|       3.690827662895443|   3.6660783693622925|\n",
      "|2011|      3.6600346020761245|   3.6569018045465196|\n",
      "|2017|       3.698152194184494|    3.745056894041101|\n",
      "+----+------------------------+---------------------+\n",
      "only showing top 5 rows"
     ]
    }
   ],
   "source": [
    "# Non-elite\n",
    "n_elite_avg_year = non_elite.groupBy('year').agg(mean('rev_stars'),mean('bus_stars'))\n",
    "n_elite_avg_year = n_elite_avg_year.withColumnRenamed('avg(rev_stars)', 'non_elite_review_ratings')\n",
    "n_elite_avg_year = n_elite_avg_year.withColumnRenamed('avg(bus_stars)', 'non_elite_bus_ratings')\n",
    "print('Non-elite')\n",
    "n_elite_avg_year.show(5)"
   ]
  },
  {
   "cell_type": "markdown",
   "id": "13cb85c5",
   "metadata": {},
   "source": [
    "#### Now we can join the two datasets together and plot"
   ]
  },
  {
   "cell_type": "code",
   "execution_count": 41,
   "id": "58d9f395",
   "metadata": {},
   "outputs": [
    {
     "data": {
      "application/vnd.jupyter.widget-view+json": {
       "model_id": "86a8aa8dd44b4cb3b18cd8abc46069c4",
       "version_major": 2,
       "version_minor": 0
      },
      "text/plain": [
       "VBox()"
      ]
     },
     "metadata": {},
     "output_type": "display_data"
    },
    {
     "data": {
      "application/vnd.jupyter.widget-view+json": {
       "model_id": "",
       "version_major": 2,
       "version_minor": 0
      },
      "text/plain": [
       "FloatProgress(value=0.0, bar_style='info', description='Progress:', layout=Layout(height='25px', width='50%'),…"
      ]
     },
     "metadata": {},
     "output_type": "display_data"
    },
    {
     "name": "stdout",
     "output_type": "stream",
     "text": [
      "+----+--------------------+------------------------+------------------+---------------------+\n",
      "|year|elite_review_ratings|non_elite_review_ratings| elite_bus_ratings|non_elite_bus_ratings|\n",
      "+----+--------------------+------------------------+------------------+---------------------+\n",
      "|2004|   3.562200956937799|       4.285714285714286| 3.647129186602871|    3.738095238095238|\n",
      "|2005|   3.824107464839524|       3.924960753532182| 3.533447529751172|   3.5411302982731554|\n",
      "|2006|   3.820479122323329|      3.8203187250996016|3.5702255617616387|     3.61128818061089|\n",
      "|2007|  3.7514907966258604|       3.768732038971052| 3.596941862810507|    3.621486647508236|\n",
      "|2008|  3.6999801379553863|      3.7312761730913775| 3.583479437879616|   3.6423681949962416|\n",
      "|2009|   3.706608980078526|        3.69283741009512|3.6168725103262123|    3.655188105574304|\n",
      "|2010|   3.722710438013602|       3.690827662895443| 3.647125779594581|   3.6660783693622925|\n",
      "|2011|   3.719965140470805|      3.6600346020761245| 3.643982575272907|   3.6569018045465196|\n",
      "|2012|   3.750420578112367|       3.630444437590599| 3.671183305571814|    3.655565493631064|\n",
      "|2013|  3.7769064803232513|       3.635523458159917| 3.699754659335319|    3.669181358854246|\n",
      "|2014|  3.8163350496895725|      3.6727432666313846|3.7385984150191764|      3.6844292191724|\n",
      "|2015|  3.8547568918137385|      3.6858769527287483|3.7705544824666513|   3.6980779851671515|\n",
      "|2016|  3.8970136566901443|       3.694521203068598|3.8028075867475057|    3.721292820502742|\n",
      "|2017|  3.9535886148730306|       3.698152194184494|3.8365759289235255|    3.745056894041101|\n",
      "|2018|  3.9965006580540647|      3.6917618752780923| 3.856401355836273|   3.7610583634869776|\n",
      "|2019|   4.033233447628779|      3.6554335736074575| 3.889140131456137|   3.7758364638101245|\n",
      "|2020|   4.132207048433037|       3.675654903500546|3.9433981982735196|    3.814023696197456|\n",
      "|2021|    4.22028970723248|      3.6773052631578946| 4.007765479955116|               3.8168|\n",
      "+----+--------------------+------------------------+------------------+---------------------+"
     ]
    }
   ],
   "source": [
    "total_avg = elite_avg_year.join(n_elite_avg_year, on = 'year', how = 'outer')\n",
    "total_avg = total_avg.sort('year')\n",
    "total_avg =total_avg.select('year','elite_review_ratings','non_elite_review_ratings','elite_bus_ratings','non_elite_bus_ratings')\n",
    "total_avg.show()"
   ]
  },
  {
   "cell_type": "code",
   "execution_count": null,
   "id": "8bbfc5af",
   "metadata": {},
   "outputs": [],
   "source": []
  },
  {
   "cell_type": "code",
   "execution_count": 42,
   "id": "68212846",
   "metadata": {},
   "outputs": [
    {
     "data": {
      "application/vnd.jupyter.widget-view+json": {
       "model_id": "009c762906294e8295c0813cab5f1d93",
       "version_major": 2,
       "version_minor": 0
      },
      "text/plain": [
       "VBox()"
      ]
     },
     "metadata": {},
     "output_type": "display_data"
    },
    {
     "data": {
      "application/vnd.jupyter.widget-view+json": {
       "model_id": "",
       "version_major": 2,
       "version_minor": 0
      },
      "text/plain": [
       "FloatProgress(value=0.0, bar_style='info', description='Progress:', layout=Layout(height='25px', width='50%'),…"
      ]
     },
     "metadata": {},
     "output_type": "display_data"
    },
    {
     "data": {
      "image/png": "[encoded data removed]",
      "text/plain": [
       "<IPython.core.display.Image object>"
      ]
     },
     "metadata": {},
     "output_type": "display_data"
    }
   ],
   "source": [
    "# Plotting Review Stars\n",
    "import matplotlib.ticker as plticker\n",
    "avg_plot = total_avg.toPandas()\n",
    "avg_plot = round(avg_plot,2)\n",
    "labels = avg_plot.year\n",
    "x = np.arange(len(labels)) # the label locations\n",
    "width = 0.35  # the width of the bars\n",
    "\n",
    "fig, ax = plt.subplots(figsize=(15, 10), dpi=100)\n",
    "rects1 = ax.bar(x - width/2,avg_plot.elite_review_ratings,width,color='green', label='Elite Rating')\n",
    "rects2 = ax.bar(x + width/2,avg_plot.non_elite_review_ratings,width,color='red', label='Non-Elite')\n",
    "\n",
    "# Add some text for labels, title and custom x-axis tick labels, etc.\n",
    "ax.set_ylabel('Ratings')\n",
    "ax.set_xlabel('Years',weight='bold', size=15)\n",
    "ax.set_title('Review Ratings Over the Years',weight='bold', size=15)\n",
    "ax.set_xticks(x)\n",
    "ax.set_xticklabels(labels,rotation=0,ha='center')\n",
    "ax.legend( bbox_to_anchor=(1, 1), loc='upper left', fontsize=10)\n",
    "ax.bar_label(rects1, padding=1,fontsize=10)\n",
    "ax.bar_label(rects2, padding=1,fontsize=10)\n",
    "\n",
    "loc = plticker.MultipleLocator(base=1) # this locator puts ticks at regular intervals\n",
    "ax.xaxis.set_major_locator(loc)\n",
    "\n",
    "fig.tight_layout()\n",
    "%matplot plt"
   ]
  },
  {
   "cell_type": "code",
   "execution_count": 43,
   "id": "4cdddaa7",
   "metadata": {},
   "outputs": [
    {
     "data": {
      "application/vnd.jupyter.widget-view+json": {
       "model_id": "018db81d2ad844719d6b357b6d3ddabb",
       "version_major": 2,
       "version_minor": 0
      },
      "text/plain": [
       "VBox()"
      ]
     },
     "metadata": {},
     "output_type": "display_data"
    },
    {
     "data": {
      "application/vnd.jupyter.widget-view+json": {
       "model_id": "",
       "version_major": 2,
       "version_minor": 0
      },
      "text/plain": [
       "FloatProgress(value=0.0, bar_style='info', description='Progress:', layout=Layout(height='25px', width='50%'),…"
      ]
     },
     "metadata": {},
     "output_type": "display_data"
    },
    {
     "data": {
      "image/png": "[encoded data removed]",
      "text/plain": [
       "<IPython.core.display.Image object>"
      ]
     },
     "metadata": {},
     "output_type": "display_data"
    }
   ],
   "source": [
    "# Plotting Business Stars\n",
    "import matplotlib.ticker as plticker\n",
    "labels = avg_plot.year\n",
    "x = np.arange(len(labels)) # the label locations\n",
    "width = 0.35  # the width of the bars\n",
    "\n",
    "fig, ax = plt.subplots(figsize=(15, 10), dpi=100)\n",
    "rects1 = ax.bar(x - width/2,avg_plot.elite_bus_ratings,width,color='green', label='Elite Rating')\n",
    "rects2 = ax.bar(x + width/2,avg_plot.non_elite_bus_ratings,width,color='red', label='Non-Elite')\n",
    "\n",
    "# Add some text for labels, title and custom x-axis tick labels, etc.\n",
    "ax.set_ylabel('Ratings')\n",
    "ax.set_xlabel('Years',weight='bold', size=15)\n",
    "ax.set_title('Business Ratings Over the Years',weight='bold', size=15)\n",
    "ax.set_xticks(x)\n",
    "ax.set_xticklabels(labels,rotation=0,ha='center')\n",
    "ax.legend( bbox_to_anchor=(1, 1), loc='upper left', fontsize=10)\n",
    "ax.bar_label(rects1, padding=1,fontsize=10)\n",
    "ax.bar_label(rects2, padding=1,fontsize=10)\n",
    "\n",
    "loc = plticker.MultipleLocator(base=1) # this locator puts ticks at regular intervals\n",
    "ax.xaxis.set_major_locator(loc)\n",
    "\n",
    "fig.tight_layout()\n",
    "%matplot plt"
   ]
  },
  {
   "cell_type": "markdown",
   "id": "454f9bbb",
   "metadata": {},
   "source": [
    "### Should the elites be trusted?\n",
    "Despite the analysis done above, it is still a hard question to answer. We saw that based on just counts alone, there is a much higher percentage of non-elite reviewers(85%) than there are elite reviewers(15%). This made it so that review tags such as being voted \"useful\", \"cool\" or \"funny\" couldnt be used in terms of counts to address if elite reviews are found more useful than non-elites.\n",
    "\n",
    "When Looking at the average rating across reviews and business we can see from the plot that there are some similarities. The years of greatest difference between elite and non-elite are 2004 and 2021 also on average the elites tend to give better ratings than non-elites across both plots. Generally, their ratings tend to be close year by year and this is very interesting when considering the fact that non-elites count is more than tripple that of the elites.\n",
    "\n",
    "If we were to really dig deeper we would need to draw an equal sample size from each group and then conduct an ANOVA test after determining independence between the samples. Ideally the ANOVA could indicate to us if there is a statistical difference between the two groups. In other words an ANOVA could give us an idea of which group, the elites or non-elites, is providing better or more useful reviews and thereby which group should be trusted more.\n",
    "\n",
    "Another interesting analysis that could be made would be trying to predict what are the top features that likely determine what makes a person become an elite yelp reviewer. Would it be the number of reviews, number of fans, funny/cool upvotes, years on yelp? It could be any one or a combination of these and that could be a whole other project."
   ]
  },
  {
   "cell_type": "code",
   "execution_count": null,
   "id": "71960f12",
   "metadata": {},
   "outputs": [],
   "source": []
  }
 ],
 "metadata": {
  "kernelspec": {
   "display_name": "PySpark",
   "language": "",
   "name": "pysparkkernel"
  },
  "language_info": {
   "codemirror_mode": {
    "name": "python",
    "version": 2
   },
   "mimetype": "text/x-python",
   "name": "pyspark",
   "pygments_lexer": "python2"
  }
 },
 "nbformat": 4,
 "nbformat_minor": 5
}
